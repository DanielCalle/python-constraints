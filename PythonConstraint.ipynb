{
 "cells": [
  {
   "cell_type": "markdown",
   "metadata": {
    "slideshow": {
     "slide_type": "slide"
    }
   },
   "source": [
    "# python-constraint\n",
    "#### *Constraint Solving Problem resolver for Python*\n",
    " \n",
    " *Daniel Calle, Adrian Dorta, Zihao Hong*"
   ]
  },
  {
   "cell_type": "markdown",
   "metadata": {
    "slideshow": {
     "slide_type": "slide"
    }
   },
   "source": [
    "# Introducción\n",
    "**Python constraint** es un módulo que ofrece resolutores para **Constraint Satisfaction Problems (CSPs)** sobre dominios finitos en un simple y puro **Python**. **CSP** es una clase de problemas los cuales pueden ser representados en términos de **variables** (a, b, …), **dominios** (a in [1,2,3], …), y **restricciones** (a < b, …).\n"
   ]
  },
  {
   "cell_type": "markdown",
   "metadata": {
    "slideshow": {
     "slide_type": "slide"
    }
   },
   "source": [
    "### ¿Como comenzamos?\n",
    "Primero tenemos que instalar el paquete de **python-constraint** con:"
   ]
  },
  {
   "cell_type": "code",
   "execution_count": 2,
   "metadata": {
    "slideshow": {
     "slide_type": "fragment"
    }
   },
   "outputs": [
    {
     "name": "stdout",
     "output_type": "stream",
     "text": [
      "Collecting python-constraint\n",
      "  Downloading https://files.pythonhosted.org/packages/37/8b/5f1bc2734ca611943e1d6733ee244238679f6410a10cd45ede55a61a8402/python-constraint-1.4.0.tar.bz2\n",
      "Building wheels for collected packages: python-constraint\n",
      "  Building wheel for python-constraint (setup.py) ... \u001b[?25ldone\n",
      "\u001b[?25h  Stored in directory: /home/jovyan/.cache/pip/wheels/34/31/15/7b070b25d0a549d20ce2e9fe6d727471c2c61ef904720fd40c\n",
      "Successfully built python-constraint\n",
      "Installing collected packages: python-constraint\n",
      "Successfully installed python-constraint-1.4.0\n"
     ]
    }
   ],
   "source": [
    "!pip install python-constraint"
   ]
  },
  {
   "cell_type": "markdown",
   "metadata": {
    "slideshow": {
     "slide_type": "subslide"
    }
   },
   "source": [
    "Para poder usarlo en cualquier script de **Python** tenemos que importar el paquete"
   ]
  },
  {
   "cell_type": "code",
   "execution_count": 3,
   "metadata": {
    "slideshow": {
     "slide_type": "fragment"
    }
   },
   "outputs": [],
   "source": [
    "from constraint import *"
   ]
  },
  {
   "cell_type": "markdown",
   "metadata": {
    "slideshow": {
     "slide_type": "slide"
    }
   },
   "source": [
    "# Problem\n",
    "\n",
    "Es una clase usada para definir un problema y obtener soluciones"
   ]
  },
  {
   "cell_type": "code",
   "execution_count": 4,
   "metadata": {
    "slideshow": {
     "slide_type": "subslide"
    }
   },
   "outputs": [
    {
     "data": {
      "text/plain": [
       "True"
      ]
     },
     "execution_count": 4,
     "metadata": {},
     "output_type": "execute_result"
    }
   ],
   "source": [
    "problem = Problem()\n",
    "problem.addVariable(\"a\", [1, 2])\n",
    "problem.getSolution() in ({'a': 1}, {'a': 2})"
   ]
  },
  {
   "cell_type": "code",
   "execution_count": 5,
   "metadata": {
    "slideshow": {
     "slide_type": "fragment"
    }
   },
   "outputs": [
    {
     "data": {
      "text/plain": [
       "[{'a': 2, 'b': 3}, {'a': 1, 'b': 2}]"
      ]
     },
     "execution_count": 5,
     "metadata": {},
     "output_type": "execute_result"
    }
   ],
   "source": [
    "problem.reset()\n",
    "problem.addVariables([\"a\", \"b\"], [1, 2, 3])\n",
    "problem.addConstraint(lambda a, b: b == a+1, [\"a\", \"b\"])\n",
    "solutions = problem.getSolutions()\n",
    "solutions"
   ]
  },
  {
   "cell_type": "code",
   "execution_count": 6,
   "metadata": {
    "slideshow": {
     "slide_type": "fragment"
    }
   },
   "outputs": [
    {
     "data": {
      "text/plain": [
       "{'a': 42}"
      ]
     },
     "execution_count": 6,
     "metadata": {},
     "output_type": "execute_result"
    }
   ],
   "source": [
    "problem.reset()\n",
    "problem.addVariables([\"a\"], [42])\n",
    "iter = problem.getSolutionIter()\n",
    "iter.__next__()"
   ]
  },
  {
   "cell_type": "code",
   "execution_count": 7,
   "metadata": {
    "slideshow": {
     "slide_type": "subslide"
    }
   },
   "outputs": [
    {
     "data": {
      "text/plain": [
       "True"
      ]
     },
     "execution_count": 7,
     "metadata": {},
     "output_type": "execute_result"
    }
   ],
   "source": [
    "problem.reset()\n",
    "problem.getSolution() is None"
   ]
  },
  {
   "cell_type": "code",
   "execution_count": 8,
   "metadata": {
    "slideshow": {
     "slide_type": "fragment"
    }
   },
   "outputs": [
    {
     "data": {
      "text/plain": [
       "True"
      ]
     },
     "execution_count": 8,
     "metadata": {},
     "output_type": "execute_result"
    }
   ],
   "source": [
    "problem.reset()\n",
    "problem.getSolutions() == []"
   ]
  },
  {
   "cell_type": "code",
   "execution_count": 9,
   "metadata": {
    "slideshow": {
     "slide_type": "fragment"
    }
   },
   "outputs": [
    {
     "data": {
      "text/plain": [
       "True"
      ]
     },
     "execution_count": 9,
     "metadata": {},
     "output_type": "execute_result"
    }
   ],
   "source": [
    "problem.reset()\n",
    "list(problem.getSolutionIter()) == []"
   ]
  },
  {
   "cell_type": "markdown",
   "metadata": {
    "slideshow": {
     "slide_type": "slide"
    }
   },
   "source": [
    "# Resolutores\n",
    "Se utiliza la clase abstracta **Solver** para definir resolutores, en la cual ya tenemos definidos los siguientes resolutores:\n",
    "- Backtracking solver \n",
    "- Recursive backtracking solver\n",
    "- Minimum conflicts solver \n"
   ]
  },
  {
   "cell_type": "code",
   "execution_count": 10,
   "metadata": {
    "slideshow": {
     "slide_type": "fragment"
    }
   },
   "outputs": [
    {
     "data": {
      "text/plain": [
       "True"
      ]
     },
     "execution_count": 10,
     "metadata": {},
     "output_type": "execute_result"
    }
   ],
   "source": [
    "solver = BacktrackingSolver()\n",
    "problem = Problem(solver)\n",
    "problem.getSolver() is solver"
   ]
  },
  {
   "cell_type": "code",
   "execution_count": 11,
   "metadata": {
    "slideshow": {
     "slide_type": "fragment"
    }
   },
   "outputs": [
    {
     "data": {
      "text/plain": [
       "False"
      ]
     },
     "execution_count": 11,
     "metadata": {},
     "output_type": "execute_result"
    }
   ],
   "source": [
    "problem.setSolver(RecursiveBacktrackingSolver)\n",
    "problem.getSolver() is solver"
   ]
  },
  {
   "cell_type": "markdown",
   "metadata": {
    "slideshow": {
     "slide_type": "subslide"
    }
   },
   "source": [
    "# Backtracking solver\n",
    "Este es el resolutor utilizado por defecto"
   ]
  },
  {
   "cell_type": "code",
   "execution_count": 12,
   "metadata": {
    "slideshow": {
     "slide_type": "fragment"
    }
   },
   "outputs": [],
   "source": [
    "result = [[('a', 1), ('b', 2)],\n",
    "              [('a', 1), ('b', 3)],\n",
    "              [('a', 2), ('b', 3)]]"
   ]
  },
  {
   "cell_type": "code",
   "execution_count": 13,
   "metadata": {
    "slideshow": {
     "slide_type": "fragment"
    }
   },
   "outputs": [],
   "source": [
    "problem = Problem(BacktrackingSolver())\n",
    "problem.addVariables([\"a\", \"b\"], [1, 2, 3])\n",
    "problem.addConstraint(lambda a, b: b > a, [\"a\", \"b\"])\n",
    "\n",
    "solution = problem.getSolution()\n",
    "                      \n",
    "sorted(solution.items()) in result\n",
    "\n",
    "for solution in problem.getSolutionIter():\n",
    "    sorted(solution.items()) in result\n",
    "\n",
    "for solution in problem.getSolutions():\n",
    "    sorted(solution.items()) in result"
   ]
  },
  {
   "cell_type": "markdown",
   "metadata": {
    "slideshow": {
     "slide_type": "subslide"
    }
   },
   "source": [
    "# Recursive backtracking solver"
   ]
  },
  {
   "cell_type": "code",
   "execution_count": 14,
   "metadata": {
    "slideshow": {
     "slide_type": "fragment"
    }
   },
   "outputs": [],
   "source": [
    "problem = Problem(RecursiveBacktrackingSolver())\n",
    "problem.addVariables([\"a\", \"b\"], [1, 2, 3])\n",
    "problem.addConstraint(lambda a, b: b > a, [\"a\", \"b\"])\n",
    "solution = problem.getSolution()\n",
    "sorted(solution.items()) in result\n",
    "\n",
    "for solution in problem.getSolutions():\n",
    "    sorted(solution.items()) in result"
   ]
  },
  {
   "cell_type": "code",
   "execution_count": 15,
   "metadata": {
    "slideshow": {
     "slide_type": "fragment"
    }
   },
   "outputs": [
    {
     "ename": "NotImplementedError",
     "evalue": "RecursiveBacktrackingSolver doesn't provide iteration",
     "output_type": "error",
     "traceback": [
      "\u001b[0;31m---------------------------------------------------------------------------\u001b[0m",
      "\u001b[0;31mNotImplementedError\u001b[0m                       Traceback (most recent call last)",
      "\u001b[0;32m<ipython-input-15-6d0cdaf1300b>\u001b[0m in \u001b[0;36m<module>\u001b[0;34m\u001b[0m\n\u001b[0;32m----> 1\u001b[0;31m \u001b[0mproblem\u001b[0m\u001b[0;34m.\u001b[0m\u001b[0mgetSolutionIter\u001b[0m\u001b[0;34m(\u001b[0m\u001b[0;34m)\u001b[0m\u001b[0;34m\u001b[0m\u001b[0;34m\u001b[0m\u001b[0m\n\u001b[0m",
      "\u001b[0;32m/srv/conda/lib/python3.6/site-packages/constraint/__init__.py\u001b[0m in \u001b[0;36mgetSolutionIter\u001b[0;34m(self)\u001b[0m\n\u001b[1;32m    292\u001b[0m         \u001b[0;32mif\u001b[0m \u001b[0;32mnot\u001b[0m \u001b[0mdomains\u001b[0m\u001b[0;34m:\u001b[0m\u001b[0;34m\u001b[0m\u001b[0;34m\u001b[0m\u001b[0m\n\u001b[1;32m    293\u001b[0m             \u001b[0;32mreturn\u001b[0m \u001b[0miter\u001b[0m\u001b[0;34m(\u001b[0m\u001b[0;34m(\u001b[0m\u001b[0;34m)\u001b[0m\u001b[0;34m)\u001b[0m\u001b[0;34m\u001b[0m\u001b[0;34m\u001b[0m\u001b[0m\n\u001b[0;32m--> 294\u001b[0;31m         \u001b[0;32mreturn\u001b[0m \u001b[0mself\u001b[0m\u001b[0;34m.\u001b[0m\u001b[0m_solver\u001b[0m\u001b[0;34m.\u001b[0m\u001b[0mgetSolutionIter\u001b[0m\u001b[0;34m(\u001b[0m\u001b[0mdomains\u001b[0m\u001b[0;34m,\u001b[0m \u001b[0mconstraints\u001b[0m\u001b[0;34m,\u001b[0m \u001b[0mvconstraints\u001b[0m\u001b[0;34m)\u001b[0m\u001b[0;34m\u001b[0m\u001b[0;34m\u001b[0m\u001b[0m\n\u001b[0m\u001b[1;32m    295\u001b[0m \u001b[0;34m\u001b[0m\u001b[0m\n\u001b[1;32m    296\u001b[0m     \u001b[0;32mdef\u001b[0m \u001b[0m_getArgs\u001b[0m\u001b[0;34m(\u001b[0m\u001b[0mself\u001b[0m\u001b[0;34m)\u001b[0m\u001b[0;34m:\u001b[0m\u001b[0;34m\u001b[0m\u001b[0;34m\u001b[0m\u001b[0m\n",
      "\u001b[0;32m/srv/conda/lib/python3.6/site-packages/constraint/__init__.py\u001b[0m in \u001b[0;36mgetSolutionIter\u001b[0;34m(self, domains, constraints, vconstraints)\u001b[0m\n\u001b[1;32m    436\u001b[0m         \"\"\"\n\u001b[1;32m    437\u001b[0m         \u001b[0mmsg\u001b[0m \u001b[0;34m=\u001b[0m \u001b[0;34m\"%s doesn't provide iteration\"\u001b[0m \u001b[0;34m%\u001b[0m \u001b[0mself\u001b[0m\u001b[0;34m.\u001b[0m\u001b[0m__class__\u001b[0m\u001b[0;34m.\u001b[0m\u001b[0m__name__\u001b[0m\u001b[0;34m\u001b[0m\u001b[0;34m\u001b[0m\u001b[0m\n\u001b[0;32m--> 438\u001b[0;31m         \u001b[0;32mraise\u001b[0m \u001b[0mNotImplementedError\u001b[0m\u001b[0;34m(\u001b[0m\u001b[0mmsg\u001b[0m\u001b[0;34m)\u001b[0m\u001b[0;34m\u001b[0m\u001b[0;34m\u001b[0m\u001b[0m\n\u001b[0m\u001b[1;32m    439\u001b[0m \u001b[0;34m\u001b[0m\u001b[0m\n\u001b[1;32m    440\u001b[0m \u001b[0;34m\u001b[0m\u001b[0m\n",
      "\u001b[0;31mNotImplementedError\u001b[0m: RecursiveBacktrackingSolver doesn't provide iteration"
     ]
    }
   ],
   "source": [
    "problem.getSolutionIter()"
   ]
  },
  {
   "cell_type": "markdown",
   "metadata": {
    "slideshow": {
     "slide_type": "subslide"
    }
   },
   "source": [
    "# Minimum conflicts solver"
   ]
  },
  {
   "cell_type": "code",
   "execution_count": 16,
   "metadata": {
    "slideshow": {
     "slide_type": "fragment"
    }
   },
   "outputs": [
    {
     "data": {
      "text/plain": [
       "True"
      ]
     },
     "execution_count": 16,
     "metadata": {},
     "output_type": "execute_result"
    }
   ],
   "source": [
    "problem = Problem(MinConflictsSolver())\n",
    "problem.addVariables([\"a\", \"b\"], [1, 2, 3])\n",
    "problem.addConstraint(lambda a, b: b > a, [\"a\", \"b\"])\n",
    "solution = problem.getSolution()\n",
    "sorted(solution.items()) in result"
   ]
  },
  {
   "cell_type": "code",
   "execution_count": 17,
   "metadata": {
    "slideshow": {
     "slide_type": "fragment"
    }
   },
   "outputs": [
    {
     "ename": "NotImplementedError",
     "evalue": "MinConflictsSolver provides only a single solution",
     "output_type": "error",
     "traceback": [
      "\u001b[0;31m---------------------------------------------------------------------------\u001b[0m",
      "\u001b[0;31mNotImplementedError\u001b[0m                       Traceback (most recent call last)",
      "\u001b[0;32m<ipython-input-17-a0841ceee5a9>\u001b[0m in \u001b[0;36m<module>\u001b[0;34m\u001b[0m\n\u001b[0;32m----> 1\u001b[0;31m \u001b[0mproblem\u001b[0m\u001b[0;34m.\u001b[0m\u001b[0mgetSolutions\u001b[0m\u001b[0;34m(\u001b[0m\u001b[0;34m)\u001b[0m\u001b[0;34m\u001b[0m\u001b[0;34m\u001b[0m\u001b[0m\n\u001b[0m",
      "\u001b[0;32m/srv/conda/lib/python3.6/site-packages/constraint/__init__.py\u001b[0m in \u001b[0;36mgetSolutions\u001b[0;34m(self)\u001b[0m\n\u001b[1;32m    269\u001b[0m         \u001b[0;32mif\u001b[0m \u001b[0;32mnot\u001b[0m \u001b[0mdomains\u001b[0m\u001b[0;34m:\u001b[0m\u001b[0;34m\u001b[0m\u001b[0;34m\u001b[0m\u001b[0m\n\u001b[1;32m    270\u001b[0m             \u001b[0;32mreturn\u001b[0m \u001b[0;34m[\u001b[0m\u001b[0;34m]\u001b[0m\u001b[0;34m\u001b[0m\u001b[0;34m\u001b[0m\u001b[0m\n\u001b[0;32m--> 271\u001b[0;31m         \u001b[0;32mreturn\u001b[0m \u001b[0mself\u001b[0m\u001b[0;34m.\u001b[0m\u001b[0m_solver\u001b[0m\u001b[0;34m.\u001b[0m\u001b[0mgetSolutions\u001b[0m\u001b[0;34m(\u001b[0m\u001b[0mdomains\u001b[0m\u001b[0;34m,\u001b[0m \u001b[0mconstraints\u001b[0m\u001b[0;34m,\u001b[0m \u001b[0mvconstraints\u001b[0m\u001b[0;34m)\u001b[0m\u001b[0;34m\u001b[0m\u001b[0;34m\u001b[0m\u001b[0m\n\u001b[0m\u001b[1;32m    272\u001b[0m \u001b[0;34m\u001b[0m\u001b[0m\n\u001b[1;32m    273\u001b[0m     \u001b[0;32mdef\u001b[0m \u001b[0mgetSolutionIter\u001b[0m\u001b[0;34m(\u001b[0m\u001b[0mself\u001b[0m\u001b[0;34m)\u001b[0m\u001b[0;34m:\u001b[0m\u001b[0;34m\u001b[0m\u001b[0;34m\u001b[0m\u001b[0m\n",
      "\u001b[0;32m/srv/conda/lib/python3.6/site-packages/constraint/__init__.py\u001b[0m in \u001b[0;36mgetSolutions\u001b[0;34m(self, domains, constraints, vconstraints)\u001b[0m\n\u001b[1;32m    421\u001b[0m         \"\"\"\n\u001b[1;32m    422\u001b[0m         \u001b[0mmsg\u001b[0m \u001b[0;34m=\u001b[0m \u001b[0;34m\"%s provides only a single solution\"\u001b[0m \u001b[0;34m%\u001b[0m \u001b[0mself\u001b[0m\u001b[0;34m.\u001b[0m\u001b[0m__class__\u001b[0m\u001b[0;34m.\u001b[0m\u001b[0m__name__\u001b[0m\u001b[0;34m\u001b[0m\u001b[0;34m\u001b[0m\u001b[0m\n\u001b[0;32m--> 423\u001b[0;31m         \u001b[0;32mraise\u001b[0m \u001b[0mNotImplementedError\u001b[0m\u001b[0;34m(\u001b[0m\u001b[0mmsg\u001b[0m\u001b[0;34m)\u001b[0m\u001b[0;34m\u001b[0m\u001b[0;34m\u001b[0m\u001b[0m\n\u001b[0m\u001b[1;32m    424\u001b[0m \u001b[0;34m\u001b[0m\u001b[0m\n\u001b[1;32m    425\u001b[0m     \u001b[0;32mdef\u001b[0m \u001b[0mgetSolutionIter\u001b[0m\u001b[0;34m(\u001b[0m\u001b[0mself\u001b[0m\u001b[0;34m,\u001b[0m \u001b[0mdomains\u001b[0m\u001b[0;34m,\u001b[0m \u001b[0mconstraints\u001b[0m\u001b[0;34m,\u001b[0m \u001b[0mvconstraints\u001b[0m\u001b[0;34m)\u001b[0m\u001b[0;34m:\u001b[0m\u001b[0;34m\u001b[0m\u001b[0;34m\u001b[0m\u001b[0m\n",
      "\u001b[0;31mNotImplementedError\u001b[0m: MinConflictsSolver provides only a single solution"
     ]
    }
   ],
   "source": [
    "problem.getSolutions()"
   ]
  },
  {
   "cell_type": "code",
   "execution_count": 18,
   "metadata": {
    "slideshow": {
     "slide_type": "subslide"
    }
   },
   "outputs": [
    {
     "ename": "NotImplementedError",
     "evalue": "MinConflictsSolver doesn't provide iteration",
     "output_type": "error",
     "traceback": [
      "\u001b[0;31m---------------------------------------------------------------------------\u001b[0m",
      "\u001b[0;31mNotImplementedError\u001b[0m                       Traceback (most recent call last)",
      "\u001b[0;32m<ipython-input-18-6d0cdaf1300b>\u001b[0m in \u001b[0;36m<module>\u001b[0;34m\u001b[0m\n\u001b[0;32m----> 1\u001b[0;31m \u001b[0mproblem\u001b[0m\u001b[0;34m.\u001b[0m\u001b[0mgetSolutionIter\u001b[0m\u001b[0;34m(\u001b[0m\u001b[0;34m)\u001b[0m\u001b[0;34m\u001b[0m\u001b[0;34m\u001b[0m\u001b[0m\n\u001b[0m",
      "\u001b[0;32m/srv/conda/lib/python3.6/site-packages/constraint/__init__.py\u001b[0m in \u001b[0;36mgetSolutionIter\u001b[0;34m(self)\u001b[0m\n\u001b[1;32m    292\u001b[0m         \u001b[0;32mif\u001b[0m \u001b[0;32mnot\u001b[0m \u001b[0mdomains\u001b[0m\u001b[0;34m:\u001b[0m\u001b[0;34m\u001b[0m\u001b[0;34m\u001b[0m\u001b[0m\n\u001b[1;32m    293\u001b[0m             \u001b[0;32mreturn\u001b[0m \u001b[0miter\u001b[0m\u001b[0;34m(\u001b[0m\u001b[0;34m(\u001b[0m\u001b[0;34m)\u001b[0m\u001b[0;34m)\u001b[0m\u001b[0;34m\u001b[0m\u001b[0;34m\u001b[0m\u001b[0m\n\u001b[0;32m--> 294\u001b[0;31m         \u001b[0;32mreturn\u001b[0m \u001b[0mself\u001b[0m\u001b[0;34m.\u001b[0m\u001b[0m_solver\u001b[0m\u001b[0;34m.\u001b[0m\u001b[0mgetSolutionIter\u001b[0m\u001b[0;34m(\u001b[0m\u001b[0mdomains\u001b[0m\u001b[0;34m,\u001b[0m \u001b[0mconstraints\u001b[0m\u001b[0;34m,\u001b[0m \u001b[0mvconstraints\u001b[0m\u001b[0;34m)\u001b[0m\u001b[0;34m\u001b[0m\u001b[0;34m\u001b[0m\u001b[0m\n\u001b[0m\u001b[1;32m    295\u001b[0m \u001b[0;34m\u001b[0m\u001b[0m\n\u001b[1;32m    296\u001b[0m     \u001b[0;32mdef\u001b[0m \u001b[0m_getArgs\u001b[0m\u001b[0;34m(\u001b[0m\u001b[0mself\u001b[0m\u001b[0;34m)\u001b[0m\u001b[0;34m:\u001b[0m\u001b[0;34m\u001b[0m\u001b[0;34m\u001b[0m\u001b[0m\n",
      "\u001b[0;32m/srv/conda/lib/python3.6/site-packages/constraint/__init__.py\u001b[0m in \u001b[0;36mgetSolutionIter\u001b[0;34m(self, domains, constraints, vconstraints)\u001b[0m\n\u001b[1;32m    436\u001b[0m         \"\"\"\n\u001b[1;32m    437\u001b[0m         \u001b[0mmsg\u001b[0m \u001b[0;34m=\u001b[0m \u001b[0;34m\"%s doesn't provide iteration\"\u001b[0m \u001b[0;34m%\u001b[0m \u001b[0mself\u001b[0m\u001b[0;34m.\u001b[0m\u001b[0m__class__\u001b[0m\u001b[0;34m.\u001b[0m\u001b[0m__name__\u001b[0m\u001b[0;34m\u001b[0m\u001b[0;34m\u001b[0m\u001b[0m\n\u001b[0;32m--> 438\u001b[0;31m         \u001b[0;32mraise\u001b[0m \u001b[0mNotImplementedError\u001b[0m\u001b[0;34m(\u001b[0m\u001b[0mmsg\u001b[0m\u001b[0;34m)\u001b[0m\u001b[0;34m\u001b[0m\u001b[0;34m\u001b[0m\u001b[0m\n\u001b[0m\u001b[1;32m    439\u001b[0m \u001b[0;34m\u001b[0m\u001b[0m\n\u001b[1;32m    440\u001b[0m \u001b[0;34m\u001b[0m\u001b[0m\n",
      "\u001b[0;31mNotImplementedError\u001b[0m: MinConflictsSolver doesn't provide iteration"
     ]
    }
   ],
   "source": [
    "problem.getSolutionIter()"
   ]
  },
  {
   "cell_type": "markdown",
   "metadata": {
    "slideshow": {
     "slide_type": "slide"
    }
   },
   "source": [
    "# Restricciones\n",
    "Se utiliza la clase abstracta **Constraint** para definir restricciones, para la cual ya tenemos definidas las siguientes restricciones:\n",
    "- FunctionConstraint\n",
    "- AllDifferentConstraint\n",
    "- AllEqualConstraint\n",
    "- MaxSumConstraint\n",
    "- ExactSumConstraint\n",
    "- MinSumConstraint\n",
    "- InSetConstraint\n",
    "- NotInSetConstraint\n",
    "- SomeInSetConstraint\n",
    "- SomeNotInSetConstraint"
   ]
  },
  {
   "cell_type": "code",
   "execution_count": 19,
   "metadata": {
    "slideshow": {
     "slide_type": "subslide"
    }
   },
   "outputs": [
    {
     "data": {
      "text/plain": [
       "[{'a': 3, 'b': 2},\n",
       " {'a': 3, 'b': 1},\n",
       " {'a': 2, 'b': 3},\n",
       " {'a': 2, 'b': 1},\n",
       " {'a': 1, 'b': 2},\n",
       " {'a': 1, 'b': 3}]"
      ]
     },
     "execution_count": 19,
     "metadata": {},
     "output_type": "execute_result"
    }
   ],
   "source": [
    "problem = Problem()\n",
    "problem.addVariables([\"a\", \"b\"], [1, 2, 3])\n",
    "problem.addConstraint(AllDifferentConstraint())\n",
    "problem.getSolutions()"
   ]
  },
  {
   "cell_type": "code",
   "execution_count": 20,
   "metadata": {
    "slideshow": {
     "slide_type": "subslide"
    }
   },
   "outputs": [
    {
     "data": {
      "text/plain": [
       "[{'a': 2, 'b': 2}, {'a': 1, 'b': 1}]"
      ]
     },
     "execution_count": 20,
     "metadata": {},
     "output_type": "execute_result"
    }
   ],
   "source": [
    "problem = Problem()\n",
    "problem.addVariables([\"a\", \"b\"], [1, 2])\n",
    "problem.addConstraint(AllEqualConstraint())\n",
    "problem.getSolutions()"
   ]
  },
  {
   "cell_type": "code",
   "execution_count": 21,
   "metadata": {
    "slideshow": {
     "slide_type": "subslide"
    }
   },
   "outputs": [
    {
     "data": {
      "text/plain": [
       "[{'a': 2, 'b': 1}, {'a': 1, 'b': 2}, {'a': 1, 'b': 1}]"
      ]
     },
     "execution_count": 21,
     "metadata": {},
     "output_type": "execute_result"
    }
   ],
   "source": [
    "problem = Problem()\n",
    "problem.addVariables([\"a\", \"b\"], [1, 2])\n",
    "problem.addConstraint(MaxSumConstraint(3))\n",
    "problem.getSolutions()"
   ]
  },
  {
   "cell_type": "code",
   "execution_count": 22,
   "metadata": {
    "slideshow": {
     "slide_type": "subslide"
    }
   },
   "outputs": [
    {
     "data": {
      "text/plain": [
       "[{'a': 1, 'b': 1}]"
      ]
     },
     "execution_count": 22,
     "metadata": {},
     "output_type": "execute_result"
    }
   ],
   "source": [
    "problem = Problem()\n",
    "problem.addVariables([\"a\", \"b\"], [1, 2])\n",
    "problem.addConstraint(InSetConstraint([1]))\n",
    "problem.getSolutions()"
   ]
  },
  {
   "cell_type": "markdown",
   "metadata": {
    "slideshow": {
     "slide_type": "slide"
    }
   },
   "source": [
    "# Ejemplos\n",
    "Ahora vamos a ver algunos ejemplos de implementación de problemas"
   ]
  },
  {
   "cell_type": "markdown",
   "metadata": {
    "slideshow": {
     "slide_type": "subslide"
    }
   },
   "source": [
    "<h1> Problema de las Torres</h1>\n",
    "\n",
    " El siguiente ejemplo resuelve el problema de las ocho torres de Ajedrez:"
   ]
  },
  {
   "cell_type": "code",
   "execution_count": 23,
   "metadata": {
    "slideshow": {
     "slide_type": "fragment"
    }
   },
   "outputs": [
    {
     "data": {
      "text/plain": [
       "[{0: 7, 1: 6, 2: 5, 3: 4, 4: 3, 5: 2, 6: 1, 7: 0},\n",
       " {0: 7, 1: 6, 2: 5, 3: 4, 4: 3, 5: 2, 6: 0, 7: 1},\n",
       " {0: 7, 1: 6, 2: 5, 3: 4, 4: 3, 5: 1, 6: 2, 7: 0},\n",
       " {0: 7, 1: 6, 2: 5, 3: 4, 4: 3, 5: 1, 6: 0, 7: 2},\n",
       " {0: 7, 1: 6, 2: 5, 3: 4, 4: 3, 5: 0, 6: 1, 7: 2},\n",
       " {0: 7, 1: 6, 2: 5, 3: 4, 4: 3, 5: 0, 6: 2, 7: 1},\n",
       " {0: 7, 1: 6, 2: 5, 3: 4, 4: 2, 5: 3, 6: 0, 7: 1},\n",
       " {0: 7, 1: 6, 2: 5, 3: 4, 4: 2, 5: 3, 6: 1, 7: 0},\n",
       " {0: 7, 1: 6, 2: 5, 3: 4, 4: 2, 5: 1, 6: 3, 7: 0},\n",
       " {0: 7, 1: 6, 2: 5, 3: 4, 4: 2, 5: 1, 6: 0, 7: 3},\n",
       " {0: 7, 1: 6, 2: 5, 3: 4, 4: 2, 5: 0, 6: 1, 7: 3},\n",
       " {0: 7, 1: 6, 2: 5, 3: 4, 4: 2, 5: 0, 6: 3, 7: 1},\n",
       " {0: 7, 1: 6, 2: 5, 3: 4, 4: 1, 5: 2, 6: 0, 7: 3},\n",
       " {0: 7, 1: 6, 2: 5, 3: 4, 4: 1, 5: 2, 6: 3, 7: 0},\n",
       " {0: 7, 1: 6, 2: 5, 3: 4, 4: 1, 5: 3, 6: 2, 7: 0},\n",
       " {0: 7, 1: 6, 2: 5, 3: 4, 4: 1, 5: 3, 6: 0, 7: 2},\n",
       " {0: 7, 1: 6, 2: 5, 3: 4, 4: 1, 5: 0, 6: 3, 7: 2},\n",
       " {0: 7, 1: 6, 2: 5, 3: 4, 4: 1, 5: 0, 6: 2, 7: 3},\n",
       " {0: 7, 1: 6, 2: 5, 3: 4, 4: 0, 5: 1, 6: 3, 7: 2},\n",
       " {0: 7, 1: 6, 2: 5, 3: 4, 4: 0, 5: 1, 6: 2, 7: 3},\n",
       " {0: 7, 1: 6, 2: 5, 3: 4, 4: 0, 5: 2, 6: 1, 7: 3},\n",
       " {0: 7, 1: 6, 2: 5, 3: 4, 4: 0, 5: 2, 6: 3, 7: 1},\n",
       " {0: 7, 1: 6, 2: 5, 3: 4, 4: 0, 5: 3, 6: 2, 7: 1},\n",
       " {0: 7, 1: 6, 2: 5, 3: 4, 4: 0, 5: 3, 6: 1, 7: 2},\n",
       " {0: 7, 1: 6, 2: 5, 3: 3, 4: 4, 5: 0, 6: 2, 7: 1},\n",
       " {0: 7, 1: 6, 2: 5, 3: 3, 4: 4, 5: 0, 6: 1, 7: 2},\n",
       " {0: 7, 1: 6, 2: 5, 3: 3, 4: 4, 5: 1, 6: 0, 7: 2},\n",
       " {0: 7, 1: 6, 2: 5, 3: 3, 4: 4, 5: 1, 6: 2, 7: 0},\n",
       " {0: 7, 1: 6, 2: 5, 3: 3, 4: 4, 5: 2, 6: 1, 7: 0},\n",
       " {0: 7, 1: 6, 2: 5, 3: 3, 4: 4, 5: 2, 6: 0, 7: 1},\n",
       " {0: 7, 1: 6, 2: 5, 3: 3, 4: 2, 5: 4, 6: 1, 7: 0},\n",
       " {0: 7, 1: 6, 2: 5, 3: 3, 4: 2, 5: 4, 6: 0, 7: 1},\n",
       " {0: 7, 1: 6, 2: 5, 3: 3, 4: 2, 5: 0, 6: 4, 7: 1},\n",
       " {0: 7, 1: 6, 2: 5, 3: 3, 4: 2, 5: 0, 6: 1, 7: 4},\n",
       " {0: 7, 1: 6, 2: 5, 3: 3, 4: 2, 5: 1, 6: 0, 7: 4},\n",
       " {0: 7, 1: 6, 2: 5, 3: 3, 4: 2, 5: 1, 6: 4, 7: 0},\n",
       " {0: 7, 1: 6, 2: 5, 3: 3, 4: 1, 5: 2, 6: 0, 7: 4},\n",
       " {0: 7, 1: 6, 2: 5, 3: 3, 4: 1, 5: 2, 6: 4, 7: 0},\n",
       " {0: 7, 1: 6, 2: 5, 3: 3, 4: 1, 5: 4, 6: 2, 7: 0},\n",
       " {0: 7, 1: 6, 2: 5, 3: 3, 4: 1, 5: 4, 6: 0, 7: 2},\n",
       " {0: 7, 1: 6, 2: 5, 3: 3, 4: 1, 5: 0, 6: 4, 7: 2},\n",
       " {0: 7, 1: 6, 2: 5, 3: 3, 4: 1, 5: 0, 6: 2, 7: 4},\n",
       " {0: 7, 1: 6, 2: 5, 3: 3, 4: 0, 5: 1, 6: 4, 7: 2},\n",
       " {0: 7, 1: 6, 2: 5, 3: 3, 4: 0, 5: 1, 6: 2, 7: 4},\n",
       " {0: 7, 1: 6, 2: 5, 3: 3, 4: 0, 5: 2, 6: 1, 7: 4},\n",
       " {0: 7, 1: 6, 2: 5, 3: 3, 4: 0, 5: 2, 6: 4, 7: 1},\n",
       " {0: 7, 1: 6, 2: 5, 3: 3, 4: 0, 5: 4, 6: 2, 7: 1},\n",
       " {0: 7, 1: 6, 2: 5, 3: 3, 4: 0, 5: 4, 6: 1, 7: 2},\n",
       " {0: 7, 1: 6, 2: 5, 3: 2, 4: 3, 5: 0, 6: 4, 7: 1},\n",
       " {0: 7, 1: 6, 2: 5, 3: 2, 4: 3, 5: 0, 6: 1, 7: 4},\n",
       " {0: 7, 1: 6, 2: 5, 3: 2, 4: 3, 5: 1, 6: 0, 7: 4},\n",
       " {0: 7, 1: 6, 2: 5, 3: 2, 4: 3, 5: 1, 6: 4, 7: 0},\n",
       " {0: 7, 1: 6, 2: 5, 3: 2, 4: 3, 5: 4, 6: 1, 7: 0},\n",
       " {0: 7, 1: 6, 2: 5, 3: 2, 4: 3, 5: 4, 6: 0, 7: 1},\n",
       " {0: 7, 1: 6, 2: 5, 3: 2, 4: 4, 5: 3, 6: 1, 7: 0},\n",
       " {0: 7, 1: 6, 2: 5, 3: 2, 4: 4, 5: 3, 6: 0, 7: 1},\n",
       " {0: 7, 1: 6, 2: 5, 3: 2, 4: 4, 5: 0, 6: 3, 7: 1},\n",
       " {0: 7, 1: 6, 2: 5, 3: 2, 4: 4, 5: 0, 6: 1, 7: 3},\n",
       " {0: 7, 1: 6, 2: 5, 3: 2, 4: 4, 5: 1, 6: 0, 7: 3},\n",
       " {0: 7, 1: 6, 2: 5, 3: 2, 4: 4, 5: 1, 6: 3, 7: 0},\n",
       " {0: 7, 1: 6, 2: 5, 3: 2, 4: 1, 5: 4, 6: 0, 7: 3},\n",
       " {0: 7, 1: 6, 2: 5, 3: 2, 4: 1, 5: 4, 6: 3, 7: 0},\n",
       " {0: 7, 1: 6, 2: 5, 3: 2, 4: 1, 5: 3, 6: 4, 7: 0},\n",
       " {0: 7, 1: 6, 2: 5, 3: 2, 4: 1, 5: 3, 6: 0, 7: 4},\n",
       " {0: 7, 1: 6, 2: 5, 3: 2, 4: 1, 5: 0, 6: 3, 7: 4},\n",
       " {0: 7, 1: 6, 2: 5, 3: 2, 4: 1, 5: 0, 6: 4, 7: 3},\n",
       " {0: 7, 1: 6, 2: 5, 3: 2, 4: 0, 5: 1, 6: 3, 7: 4},\n",
       " {0: 7, 1: 6, 2: 5, 3: 2, 4: 0, 5: 1, 6: 4, 7: 3},\n",
       " {0: 7, 1: 6, 2: 5, 3: 2, 4: 0, 5: 4, 6: 1, 7: 3},\n",
       " {0: 7, 1: 6, 2: 5, 3: 2, 4: 0, 5: 4, 6: 3, 7: 1},\n",
       " {0: 7, 1: 6, 2: 5, 3: 2, 4: 0, 5: 3, 6: 4, 7: 1},\n",
       " {0: 7, 1: 6, 2: 5, 3: 2, 4: 0, 5: 3, 6: 1, 7: 4},\n",
       " {0: 7, 1: 6, 2: 5, 3: 1, 4: 2, 5: 0, 6: 3, 7: 4},\n",
       " {0: 7, 1: 6, 2: 5, 3: 1, 4: 2, 5: 0, 6: 4, 7: 3},\n",
       " {0: 7, 1: 6, 2: 5, 3: 1, 4: 2, 5: 4, 6: 0, 7: 3},\n",
       " {0: 7, 1: 6, 2: 5, 3: 1, 4: 2, 5: 4, 6: 3, 7: 0},\n",
       " {0: 7, 1: 6, 2: 5, 3: 1, 4: 2, 5: 3, 6: 4, 7: 0},\n",
       " {0: 7, 1: 6, 2: 5, 3: 1, 4: 2, 5: 3, 6: 0, 7: 4},\n",
       " {0: 7, 1: 6, 2: 5, 3: 1, 4: 3, 5: 2, 6: 4, 7: 0},\n",
       " {0: 7, 1: 6, 2: 5, 3: 1, 4: 3, 5: 2, 6: 0, 7: 4},\n",
       " {0: 7, 1: 6, 2: 5, 3: 1, 4: 3, 5: 0, 6: 2, 7: 4},\n",
       " {0: 7, 1: 6, 2: 5, 3: 1, 4: 3, 5: 0, 6: 4, 7: 2},\n",
       " {0: 7, 1: 6, 2: 5, 3: 1, 4: 3, 5: 4, 6: 0, 7: 2},\n",
       " {0: 7, 1: 6, 2: 5, 3: 1, 4: 3, 5: 4, 6: 2, 7: 0},\n",
       " {0: 7, 1: 6, 2: 5, 3: 1, 4: 4, 5: 3, 6: 0, 7: 2},\n",
       " {0: 7, 1: 6, 2: 5, 3: 1, 4: 4, 5: 3, 6: 2, 7: 0},\n",
       " {0: 7, 1: 6, 2: 5, 3: 1, 4: 4, 5: 2, 6: 3, 7: 0},\n",
       " {0: 7, 1: 6, 2: 5, 3: 1, 4: 4, 5: 2, 6: 0, 7: 3},\n",
       " {0: 7, 1: 6, 2: 5, 3: 1, 4: 4, 5: 0, 6: 2, 7: 3},\n",
       " {0: 7, 1: 6, 2: 5, 3: 1, 4: 4, 5: 0, 6: 3, 7: 2},\n",
       " {0: 7, 1: 6, 2: 5, 3: 1, 4: 0, 5: 4, 6: 2, 7: 3},\n",
       " {0: 7, 1: 6, 2: 5, 3: 1, 4: 0, 5: 4, 6: 3, 7: 2},\n",
       " {0: 7, 1: 6, 2: 5, 3: 1, 4: 0, 5: 3, 6: 4, 7: 2},\n",
       " {0: 7, 1: 6, 2: 5, 3: 1, 4: 0, 5: 3, 6: 2, 7: 4},\n",
       " {0: 7, 1: 6, 2: 5, 3: 1, 4: 0, 5: 2, 6: 3, 7: 4},\n",
       " {0: 7, 1: 6, 2: 5, 3: 1, 4: 0, 5: 2, 6: 4, 7: 3},\n",
       " {0: 7, 1: 6, 2: 5, 3: 0, 4: 1, 5: 4, 6: 2, 7: 3},\n",
       " {0: 7, 1: 6, 2: 5, 3: 0, 4: 1, 5: 4, 6: 3, 7: 2},\n",
       " {0: 7, 1: 6, 2: 5, 3: 0, 4: 1, 5: 3, 6: 4, 7: 2},\n",
       " {0: 7, 1: 6, 2: 5, 3: 0, 4: 1, 5: 3, 6: 2, 7: 4},\n",
       " {0: 7, 1: 6, 2: 5, 3: 0, 4: 1, 5: 2, 6: 3, 7: 4},\n",
       " {0: 7, 1: 6, 2: 5, 3: 0, 4: 1, 5: 2, 6: 4, 7: 3},\n",
       " {0: 7, 1: 6, 2: 5, 3: 0, 4: 2, 5: 1, 6: 3, 7: 4},\n",
       " {0: 7, 1: 6, 2: 5, 3: 0, 4: 2, 5: 1, 6: 4, 7: 3},\n",
       " {0: 7, 1: 6, 2: 5, 3: 0, 4: 2, 5: 4, 6: 1, 7: 3},\n",
       " {0: 7, 1: 6, 2: 5, 3: 0, 4: 2, 5: 4, 6: 3, 7: 1},\n",
       " {0: 7, 1: 6, 2: 5, 3: 0, 4: 2, 5: 3, 6: 4, 7: 1},\n",
       " {0: 7, 1: 6, 2: 5, 3: 0, 4: 2, 5: 3, 6: 1, 7: 4},\n",
       " {0: 7, 1: 6, 2: 5, 3: 0, 4: 3, 5: 2, 6: 4, 7: 1},\n",
       " {0: 7, 1: 6, 2: 5, 3: 0, 4: 3, 5: 2, 6: 1, 7: 4},\n",
       " {0: 7, 1: 6, 2: 5, 3: 0, 4: 3, 5: 1, 6: 2, 7: 4},\n",
       " {0: 7, 1: 6, 2: 5, 3: 0, 4: 3, 5: 1, 6: 4, 7: 2},\n",
       " {0: 7, 1: 6, 2: 5, 3: 0, 4: 3, 5: 4, 6: 1, 7: 2},\n",
       " {0: 7, 1: 6, 2: 5, 3: 0, 4: 3, 5: 4, 6: 2, 7: 1},\n",
       " {0: 7, 1: 6, 2: 5, 3: 0, 4: 4, 5: 3, 6: 1, 7: 2},\n",
       " {0: 7, 1: 6, 2: 5, 3: 0, 4: 4, 5: 3, 6: 2, 7: 1},\n",
       " {0: 7, 1: 6, 2: 5, 3: 0, 4: 4, 5: 2, 6: 3, 7: 1},\n",
       " {0: 7, 1: 6, 2: 5, 3: 0, 4: 4, 5: 2, 6: 1, 7: 3},\n",
       " {0: 7, 1: 6, 2: 5, 3: 0, 4: 4, 5: 1, 6: 2, 7: 3},\n",
       " {0: 7, 1: 6, 2: 5, 3: 0, 4: 4, 5: 1, 6: 3, 7: 2},\n",
       " {0: 7, 1: 6, 2: 4, 3: 5, 4: 0, 5: 3, 6: 1, 7: 2},\n",
       " {0: 7, 1: 6, 2: 4, 3: 5, 4: 0, 5: 3, 6: 2, 7: 1},\n",
       " {0: 7, 1: 6, 2: 4, 3: 5, 4: 0, 5: 2, 6: 3, 7: 1},\n",
       " {0: 7, 1: 6, 2: 4, 3: 5, 4: 0, 5: 2, 6: 1, 7: 3},\n",
       " {0: 7, 1: 6, 2: 4, 3: 5, 4: 0, 5: 1, 6: 2, 7: 3},\n",
       " {0: 7, 1: 6, 2: 4, 3: 5, 4: 0, 5: 1, 6: 3, 7: 2},\n",
       " {0: 7, 1: 6, 2: 4, 3: 5, 4: 1, 5: 0, 6: 2, 7: 3},\n",
       " {0: 7, 1: 6, 2: 4, 3: 5, 4: 1, 5: 0, 6: 3, 7: 2},\n",
       " {0: 7, 1: 6, 2: 4, 3: 5, 4: 1, 5: 3, 6: 0, 7: 2},\n",
       " {0: 7, 1: 6, 2: 4, 3: 5, 4: 1, 5: 3, 6: 2, 7: 0},\n",
       " {0: 7, 1: 6, 2: 4, 3: 5, 4: 1, 5: 2, 6: 3, 7: 0},\n",
       " {0: 7, 1: 6, 2: 4, 3: 5, 4: 1, 5: 2, 6: 0, 7: 3},\n",
       " {0: 7, 1: 6, 2: 4, 3: 5, 4: 2, 5: 1, 6: 3, 7: 0},\n",
       " {0: 7, 1: 6, 2: 4, 3: 5, 4: 2, 5: 1, 6: 0, 7: 3},\n",
       " {0: 7, 1: 6, 2: 4, 3: 5, 4: 2, 5: 0, 6: 1, 7: 3},\n",
       " {0: 7, 1: 6, 2: 4, 3: 5, 4: 2, 5: 0, 6: 3, 7: 1},\n",
       " {0: 7, 1: 6, 2: 4, 3: 5, 4: 2, 5: 3, 6: 0, 7: 1},\n",
       " {0: 7, 1: 6, 2: 4, 3: 5, 4: 2, 5: 3, 6: 1, 7: 0},\n",
       " {0: 7, 1: 6, 2: 4, 3: 5, 4: 3, 5: 2, 6: 0, 7: 1},\n",
       " {0: 7, 1: 6, 2: 4, 3: 5, 4: 3, 5: 2, 6: 1, 7: 0},\n",
       " {0: 7, 1: 6, 2: 4, 3: 5, 4: 3, 5: 1, 6: 2, 7: 0},\n",
       " {0: 7, 1: 6, 2: 4, 3: 5, 4: 3, 5: 1, 6: 0, 7: 2},\n",
       " {0: 7, 1: 6, 2: 4, 3: 5, 4: 3, 5: 0, 6: 1, 7: 2},\n",
       " {0: 7, 1: 6, 2: 4, 3: 5, 4: 3, 5: 0, 6: 2, 7: 1},\n",
       " {0: 7, 1: 6, 2: 4, 3: 3, 4: 5, 5: 2, 6: 0, 7: 1},\n",
       " {0: 7, 1: 6, 2: 4, 3: 3, 4: 5, 5: 2, 6: 1, 7: 0},\n",
       " {0: 7, 1: 6, 2: 4, 3: 3, 4: 5, 5: 1, 6: 2, 7: 0},\n",
       " {0: 7, 1: 6, 2: 4, 3: 3, 4: 5, 5: 1, 6: 0, 7: 2},\n",
       " {0: 7, 1: 6, 2: 4, 3: 3, 4: 5, 5: 0, 6: 1, 7: 2},\n",
       " {0: 7, 1: 6, 2: 4, 3: 3, 4: 5, 5: 0, 6: 2, 7: 1},\n",
       " {0: 7, 1: 6, 2: 4, 3: 3, 4: 0, 5: 5, 6: 1, 7: 2},\n",
       " {0: 7, 1: 6, 2: 4, 3: 3, 4: 0, 5: 5, 6: 2, 7: 1},\n",
       " {0: 7, 1: 6, 2: 4, 3: 3, 4: 0, 5: 2, 6: 5, 7: 1},\n",
       " {0: 7, 1: 6, 2: 4, 3: 3, 4: 0, 5: 2, 6: 1, 7: 5},\n",
       " {0: 7, 1: 6, 2: 4, 3: 3, 4: 0, 5: 1, 6: 2, 7: 5},\n",
       " {0: 7, 1: 6, 2: 4, 3: 3, 4: 0, 5: 1, 6: 5, 7: 2},\n",
       " {0: 7, 1: 6, 2: 4, 3: 3, 4: 1, 5: 0, 6: 2, 7: 5},\n",
       " {0: 7, 1: 6, 2: 4, 3: 3, 4: 1, 5: 0, 6: 5, 7: 2},\n",
       " {0: 7, 1: 6, 2: 4, 3: 3, 4: 1, 5: 5, 6: 0, 7: 2},\n",
       " {0: 7, 1: 6, 2: 4, 3: 3, 4: 1, 5: 5, 6: 2, 7: 0},\n",
       " {0: 7, 1: 6, 2: 4, 3: 3, 4: 1, 5: 2, 6: 5, 7: 0},\n",
       " {0: 7, 1: 6, 2: 4, 3: 3, 4: 1, 5: 2, 6: 0, 7: 5},\n",
       " {0: 7, 1: 6, 2: 4, 3: 3, 4: 2, 5: 1, 6: 5, 7: 0},\n",
       " {0: 7, 1: 6, 2: 4, 3: 3, 4: 2, 5: 1, 6: 0, 7: 5},\n",
       " {0: 7, 1: 6, 2: 4, 3: 3, 4: 2, 5: 0, 6: 1, 7: 5},\n",
       " {0: 7, 1: 6, 2: 4, 3: 3, 4: 2, 5: 0, 6: 5, 7: 1},\n",
       " {0: 7, 1: 6, 2: 4, 3: 3, 4: 2, 5: 5, 6: 0, 7: 1},\n",
       " {0: 7, 1: 6, 2: 4, 3: 3, 4: 2, 5: 5, 6: 1, 7: 0},\n",
       " {0: 7, 1: 6, 2: 4, 3: 2, 4: 3, 5: 1, 6: 5, 7: 0},\n",
       " {0: 7, 1: 6, 2: 4, 3: 2, 4: 3, 5: 1, 6: 0, 7: 5},\n",
       " {0: 7, 1: 6, 2: 4, 3: 2, 4: 3, 5: 0, 6: 1, 7: 5},\n",
       " {0: 7, 1: 6, 2: 4, 3: 2, 4: 3, 5: 0, 6: 5, 7: 1},\n",
       " {0: 7, 1: 6, 2: 4, 3: 2, 4: 3, 5: 5, 6: 0, 7: 1},\n",
       " {0: 7, 1: 6, 2: 4, 3: 2, 4: 3, 5: 5, 6: 1, 7: 0},\n",
       " {0: 7, 1: 6, 2: 4, 3: 2, 4: 5, 5: 3, 6: 0, 7: 1},\n",
       " {0: 7, 1: 6, 2: 4, 3: 2, 4: 5, 5: 3, 6: 1, 7: 0},\n",
       " {0: 7, 1: 6, 2: 4, 3: 2, 4: 5, 5: 1, 6: 3, 7: 0},\n",
       " {0: 7, 1: 6, 2: 4, 3: 2, 4: 5, 5: 1, 6: 0, 7: 3},\n",
       " {0: 7, 1: 6, 2: 4, 3: 2, 4: 5, 5: 0, 6: 1, 7: 3},\n",
       " {0: 7, 1: 6, 2: 4, 3: 2, 4: 5, 5: 0, 6: 3, 7: 1},\n",
       " {0: 7, 1: 6, 2: 4, 3: 2, 4: 0, 5: 5, 6: 1, 7: 3},\n",
       " {0: 7, 1: 6, 2: 4, 3: 2, 4: 0, 5: 5, 6: 3, 7: 1},\n",
       " {0: 7, 1: 6, 2: 4, 3: 2, 4: 0, 5: 3, 6: 5, 7: 1},\n",
       " {0: 7, 1: 6, 2: 4, 3: 2, 4: 0, 5: 3, 6: 1, 7: 5},\n",
       " {0: 7, 1: 6, 2: 4, 3: 2, 4: 0, 5: 1, 6: 3, 7: 5},\n",
       " {0: 7, 1: 6, 2: 4, 3: 2, 4: 0, 5: 1, 6: 5, 7: 3},\n",
       " {0: 7, 1: 6, 2: 4, 3: 2, 4: 1, 5: 0, 6: 3, 7: 5},\n",
       " {0: 7, 1: 6, 2: 4, 3: 2, 4: 1, 5: 0, 6: 5, 7: 3},\n",
       " {0: 7, 1: 6, 2: 4, 3: 2, 4: 1, 5: 5, 6: 0, 7: 3},\n",
       " {0: 7, 1: 6, 2: 4, 3: 2, 4: 1, 5: 5, 6: 3, 7: 0},\n",
       " {0: 7, 1: 6, 2: 4, 3: 2, 4: 1, 5: 3, 6: 5, 7: 0},\n",
       " {0: 7, 1: 6, 2: 4, 3: 2, 4: 1, 5: 3, 6: 0, 7: 5},\n",
       " {0: 7, 1: 6, 2: 4, 3: 1, 4: 2, 5: 0, 6: 3, 7: 5},\n",
       " {0: 7, 1: 6, 2: 4, 3: 1, 4: 2, 5: 0, 6: 5, 7: 3},\n",
       " {0: 7, 1: 6, 2: 4, 3: 1, 4: 2, 5: 5, 6: 0, 7: 3},\n",
       " {0: 7, 1: 6, 2: 4, 3: 1, 4: 2, 5: 5, 6: 3, 7: 0},\n",
       " {0: 7, 1: 6, 2: 4, 3: 1, 4: 2, 5: 3, 6: 5, 7: 0},\n",
       " {0: 7, 1: 6, 2: 4, 3: 1, 4: 2, 5: 3, 6: 0, 7: 5},\n",
       " {0: 7, 1: 6, 2: 4, 3: 1, 4: 3, 5: 2, 6: 5, 7: 0},\n",
       " {0: 7, 1: 6, 2: 4, 3: 1, 4: 3, 5: 2, 6: 0, 7: 5},\n",
       " {0: 7, 1: 6, 2: 4, 3: 1, 4: 3, 5: 0, 6: 2, 7: 5},\n",
       " {0: 7, 1: 6, 2: 4, 3: 1, 4: 3, 5: 0, 6: 5, 7: 2},\n",
       " {0: 7, 1: 6, 2: 4, 3: 1, 4: 3, 5: 5, 6: 0, 7: 2},\n",
       " {0: 7, 1: 6, 2: 4, 3: 1, 4: 3, 5: 5, 6: 2, 7: 0},\n",
       " {0: 7, 1: 6, 2: 4, 3: 1, 4: 5, 5: 3, 6: 0, 7: 2},\n",
       " {0: 7, 1: 6, 2: 4, 3: 1, 4: 5, 5: 3, 6: 2, 7: 0},\n",
       " {0: 7, 1: 6, 2: 4, 3: 1, 4: 5, 5: 2, 6: 3, 7: 0},\n",
       " {0: 7, 1: 6, 2: 4, 3: 1, 4: 5, 5: 2, 6: 0, 7: 3},\n",
       " {0: 7, 1: 6, 2: 4, 3: 1, 4: 5, 5: 0, 6: 2, 7: 3},\n",
       " {0: 7, 1: 6, 2: 4, 3: 1, 4: 5, 5: 0, 6: 3, 7: 2},\n",
       " {0: 7, 1: 6, 2: 4, 3: 1, 4: 0, 5: 5, 6: 2, 7: 3},\n",
       " {0: 7, 1: 6, 2: 4, 3: 1, 4: 0, 5: 5, 6: 3, 7: 2},\n",
       " {0: 7, 1: 6, 2: 4, 3: 1, 4: 0, 5: 3, 6: 5, 7: 2},\n",
       " {0: 7, 1: 6, 2: 4, 3: 1, 4: 0, 5: 3, 6: 2, 7: 5},\n",
       " {0: 7, 1: 6, 2: 4, 3: 1, 4: 0, 5: 2, 6: 3, 7: 5},\n",
       " {0: 7, 1: 6, 2: 4, 3: 1, 4: 0, 5: 2, 6: 5, 7: 3},\n",
       " {0: 7, 1: 6, 2: 4, 3: 0, 4: 1, 5: 5, 6: 2, 7: 3},\n",
       " {0: 7, 1: 6, 2: 4, 3: 0, 4: 1, 5: 5, 6: 3, 7: 2},\n",
       " {0: 7, 1: 6, 2: 4, 3: 0, 4: 1, 5: 3, 6: 5, 7: 2},\n",
       " {0: 7, 1: 6, 2: 4, 3: 0, 4: 1, 5: 3, 6: 2, 7: 5},\n",
       " {0: 7, 1: 6, 2: 4, 3: 0, 4: 1, 5: 2, 6: 3, 7: 5},\n",
       " {0: 7, 1: 6, 2: 4, 3: 0, 4: 1, 5: 2, 6: 5, 7: 3},\n",
       " {0: 7, 1: 6, 2: 4, 3: 0, 4: 2, 5: 1, 6: 3, 7: 5},\n",
       " {0: 7, 1: 6, 2: 4, 3: 0, 4: 2, 5: 1, 6: 5, 7: 3},\n",
       " {0: 7, 1: 6, 2: 4, 3: 0, 4: 2, 5: 5, 6: 1, 7: 3},\n",
       " {0: 7, 1: 6, 2: 4, 3: 0, 4: 2, 5: 5, 6: 3, 7: 1},\n",
       " {0: 7, 1: 6, 2: 4, 3: 0, 4: 2, 5: 3, 6: 5, 7: 1},\n",
       " {0: 7, 1: 6, 2: 4, 3: 0, 4: 2, 5: 3, 6: 1, 7: 5},\n",
       " {0: 7, 1: 6, 2: 4, 3: 0, 4: 3, 5: 2, 6: 5, 7: 1},\n",
       " {0: 7, 1: 6, 2: 4, 3: 0, 4: 3, 5: 2, 6: 1, 7: 5},\n",
       " {0: 7, 1: 6, 2: 4, 3: 0, 4: 3, 5: 1, 6: 2, 7: 5},\n",
       " {0: 7, 1: 6, 2: 4, 3: 0, 4: 3, 5: 1, 6: 5, 7: 2},\n",
       " {0: 7, 1: 6, 2: 4, 3: 0, 4: 3, 5: 5, 6: 1, 7: 2},\n",
       " {0: 7, 1: 6, 2: 4, 3: 0, 4: 3, 5: 5, 6: 2, 7: 1},\n",
       " {0: 7, 1: 6, 2: 4, 3: 0, 4: 5, 5: 3, 6: 1, 7: 2},\n",
       " {0: 7, 1: 6, 2: 4, 3: 0, 4: 5, 5: 3, 6: 2, 7: 1},\n",
       " {0: 7, 1: 6, 2: 4, 3: 0, 4: 5, 5: 2, 6: 3, 7: 1},\n",
       " {0: 7, 1: 6, 2: 4, 3: 0, 4: 5, 5: 2, 6: 1, 7: 3},\n",
       " {0: 7, 1: 6, 2: 4, 3: 0, 4: 5, 5: 1, 6: 2, 7: 3},\n",
       " {0: 7, 1: 6, 2: 4, 3: 0, 4: 5, 5: 1, 6: 3, 7: 2},\n",
       " {0: 7, 1: 6, 2: 3, 3: 4, 4: 0, 5: 5, 6: 1, 7: 2},\n",
       " {0: 7, 1: 6, 2: 3, 3: 4, 4: 0, 5: 5, 6: 2, 7: 1},\n",
       " {0: 7, 1: 6, 2: 3, 3: 4, 4: 0, 5: 2, 6: 5, 7: 1},\n",
       " {0: 7, 1: 6, 2: 3, 3: 4, 4: 0, 5: 2, 6: 1, 7: 5},\n",
       " {0: 7, 1: 6, 2: 3, 3: 4, 4: 0, 5: 1, 6: 2, 7: 5},\n",
       " {0: 7, 1: 6, 2: 3, 3: 4, 4: 0, 5: 1, 6: 5, 7: 2},\n",
       " {0: 7, 1: 6, 2: 3, 3: 4, 4: 1, 5: 0, 6: 2, 7: 5},\n",
       " {0: 7, 1: 6, 2: 3, 3: 4, 4: 1, 5: 0, 6: 5, 7: 2},\n",
       " {0: 7, 1: 6, 2: 3, 3: 4, 4: 1, 5: 5, 6: 0, 7: 2},\n",
       " {0: 7, 1: 6, 2: 3, 3: 4, 4: 1, 5: 5, 6: 2, 7: 0},\n",
       " {0: 7, 1: 6, 2: 3, 3: 4, 4: 1, 5: 2, 6: 5, 7: 0},\n",
       " {0: 7, 1: 6, 2: 3, 3: 4, 4: 1, 5: 2, 6: 0, 7: 5},\n",
       " {0: 7, 1: 6, 2: 3, 3: 4, 4: 2, 5: 1, 6: 5, 7: 0},\n",
       " {0: 7, 1: 6, 2: 3, 3: 4, 4: 2, 5: 1, 6: 0, 7: 5},\n",
       " {0: 7, 1: 6, 2: 3, 3: 4, 4: 2, 5: 0, 6: 1, 7: 5},\n",
       " {0: 7, 1: 6, 2: 3, 3: 4, 4: 2, 5: 0, 6: 5, 7: 1},\n",
       " {0: 7, 1: 6, 2: 3, 3: 4, 4: 2, 5: 5, 6: 0, 7: 1},\n",
       " {0: 7, 1: 6, 2: 3, 3: 4, 4: 2, 5: 5, 6: 1, 7: 0},\n",
       " {0: 7, 1: 6, 2: 3, 3: 4, 4: 5, 5: 2, 6: 0, 7: 1},\n",
       " {0: 7, 1: 6, 2: 3, 3: 4, 4: 5, 5: 2, 6: 1, 7: 0},\n",
       " {0: 7, 1: 6, 2: 3, 3: 4, 4: 5, 5: 1, 6: 2, 7: 0},\n",
       " {0: 7, 1: 6, 2: 3, 3: 4, 4: 5, 5: 1, 6: 0, 7: 2},\n",
       " {0: 7, 1: 6, 2: 3, 3: 4, 4: 5, 5: 0, 6: 1, 7: 2},\n",
       " {0: 7, 1: 6, 2: 3, 3: 4, 4: 5, 5: 0, 6: 2, 7: 1},\n",
       " {0: 7, 1: 6, 2: 3, 3: 5, 4: 4, 5: 2, 6: 0, 7: 1},\n",
       " {0: 7, 1: 6, 2: 3, 3: 5, 4: 4, 5: 2, 6: 1, 7: 0},\n",
       " {0: 7, 1: 6, 2: 3, 3: 5, 4: 4, 5: 1, 6: 2, 7: 0},\n",
       " {0: 7, 1: 6, 2: 3, 3: 5, 4: 4, 5: 1, 6: 0, 7: 2},\n",
       " {0: 7, 1: 6, 2: 3, 3: 5, 4: 4, 5: 0, 6: 1, 7: 2},\n",
       " {0: 7, 1: 6, 2: 3, 3: 5, 4: 4, 5: 0, 6: 2, 7: 1},\n",
       " {0: 7, 1: 6, 2: 3, 3: 5, 4: 0, 5: 4, 6: 1, 7: 2},\n",
       " {0: 7, 1: 6, 2: 3, 3: 5, 4: 0, 5: 4, 6: 2, 7: 1},\n",
       " {0: 7, 1: 6, 2: 3, 3: 5, 4: 0, 5: 2, 6: 4, 7: 1},\n",
       " {0: 7, 1: 6, 2: 3, 3: 5, 4: 0, 5: 2, 6: 1, 7: 4},\n",
       " {0: 7, 1: 6, 2: 3, 3: 5, 4: 0, 5: 1, 6: 2, 7: 4},\n",
       " {0: 7, 1: 6, 2: 3, 3: 5, 4: 0, 5: 1, 6: 4, 7: 2},\n",
       " {0: 7, 1: 6, 2: 3, 3: 5, 4: 1, 5: 0, 6: 2, 7: 4},\n",
       " {0: 7, 1: 6, 2: 3, 3: 5, 4: 1, 5: 0, 6: 4, 7: 2},\n",
       " {0: 7, 1: 6, 2: 3, 3: 5, 4: 1, 5: 4, 6: 0, 7: 2},\n",
       " {0: 7, 1: 6, 2: 3, 3: 5, 4: 1, 5: 4, 6: 2, 7: 0},\n",
       " {0: 7, 1: 6, 2: 3, 3: 5, 4: 1, 5: 2, 6: 4, 7: 0},\n",
       " {0: 7, 1: 6, 2: 3, 3: 5, 4: 1, 5: 2, 6: 0, 7: 4},\n",
       " {0: 7, 1: 6, 2: 3, 3: 5, 4: 2, 5: 1, 6: 4, 7: 0},\n",
       " {0: 7, 1: 6, 2: 3, 3: 5, 4: 2, 5: 1, 6: 0, 7: 4},\n",
       " {0: 7, 1: 6, 2: 3, 3: 5, 4: 2, 5: 0, 6: 1, 7: 4},\n",
       " {0: 7, 1: 6, 2: 3, 3: 5, 4: 2, 5: 0, 6: 4, 7: 1},\n",
       " {0: 7, 1: 6, 2: 3, 3: 5, 4: 2, 5: 4, 6: 0, 7: 1},\n",
       " {0: 7, 1: 6, 2: 3, 3: 5, 4: 2, 5: 4, 6: 1, 7: 0},\n",
       " {0: 7, 1: 6, 2: 3, 3: 2, 4: 5, 5: 1, 6: 4, 7: 0},\n",
       " {0: 7, 1: 6, 2: 3, 3: 2, 4: 5, 5: 1, 6: 0, 7: 4},\n",
       " {0: 7, 1: 6, 2: 3, 3: 2, 4: 5, 5: 0, 6: 1, 7: 4},\n",
       " {0: 7, 1: 6, 2: 3, 3: 2, 4: 5, 5: 0, 6: 4, 7: 1},\n",
       " {0: 7, 1: 6, 2: 3, 3: 2, 4: 5, 5: 4, 6: 0, 7: 1},\n",
       " {0: 7, 1: 6, 2: 3, 3: 2, 4: 5, 5: 4, 6: 1, 7: 0},\n",
       " {0: 7, 1: 6, 2: 3, 3: 2, 4: 4, 5: 5, 6: 0, 7: 1},\n",
       " {0: 7, 1: 6, 2: 3, 3: 2, 4: 4, 5: 5, 6: 1, 7: 0},\n",
       " {0: 7, 1: 6, 2: 3, 3: 2, 4: 4, 5: 1, 6: 5, 7: 0},\n",
       " {0: 7, 1: 6, 2: 3, 3: 2, 4: 4, 5: 1, 6: 0, 7: 5},\n",
       " {0: 7, 1: 6, 2: 3, 3: 2, 4: 4, 5: 0, 6: 1, 7: 5},\n",
       " {0: 7, 1: 6, 2: 3, 3: 2, 4: 4, 5: 0, 6: 5, 7: 1},\n",
       " {0: 7, 1: 6, 2: 3, 3: 2, 4: 0, 5: 4, 6: 1, 7: 5},\n",
       " {0: 7, 1: 6, 2: 3, 3: 2, 4: 0, 5: 4, 6: 5, 7: 1},\n",
       " {0: 7, 1: 6, 2: 3, 3: 2, 4: 0, 5: 5, 6: 4, 7: 1},\n",
       " {0: 7, 1: 6, 2: 3, 3: 2, 4: 0, 5: 5, 6: 1, 7: 4},\n",
       " {0: 7, 1: 6, 2: 3, 3: 2, 4: 0, 5: 1, 6: 5, 7: 4},\n",
       " {0: 7, 1: 6, 2: 3, 3: 2, 4: 0, 5: 1, 6: 4, 7: 5},\n",
       " {0: 7, 1: 6, 2: 3, 3: 2, 4: 1, 5: 0, 6: 5, 7: 4},\n",
       " {0: 7, 1: 6, 2: 3, 3: 2, 4: 1, 5: 0, 6: 4, 7: 5},\n",
       " {0: 7, 1: 6, 2: 3, 3: 2, 4: 1, 5: 4, 6: 0, 7: 5},\n",
       " {0: 7, 1: 6, 2: 3, 3: 2, 4: 1, 5: 4, 6: 5, 7: 0},\n",
       " {0: 7, 1: 6, 2: 3, 3: 2, 4: 1, 5: 5, 6: 4, 7: 0},\n",
       " {0: 7, 1: 6, 2: 3, 3: 2, 4: 1, 5: 5, 6: 0, 7: 4},\n",
       " {0: 7, 1: 6, 2: 3, 3: 1, 4: 2, 5: 0, 6: 5, 7: 4},\n",
       " {0: 7, 1: 6, 2: 3, 3: 1, 4: 2, 5: 0, 6: 4, 7: 5},\n",
       " {0: 7, 1: 6, 2: 3, 3: 1, 4: 2, 5: 4, 6: 0, 7: 5},\n",
       " {0: 7, 1: 6, 2: 3, 3: 1, 4: 2, 5: 4, 6: 5, 7: 0},\n",
       " {0: 7, 1: 6, 2: 3, 3: 1, 4: 2, 5: 5, 6: 4, 7: 0},\n",
       " {0: 7, 1: 6, 2: 3, 3: 1, 4: 2, 5: 5, 6: 0, 7: 4},\n",
       " {0: 7, 1: 6, 2: 3, 3: 1, 4: 5, 5: 2, 6: 4, 7: 0},\n",
       " {0: 7, 1: 6, 2: 3, 3: 1, 4: 5, 5: 2, 6: 0, 7: 4},\n",
       " {0: 7, 1: 6, 2: 3, 3: 1, 4: 5, 5: 0, 6: 2, 7: 4},\n",
       " {0: 7, 1: 6, 2: 3, 3: 1, 4: 5, 5: 0, 6: 4, 7: 2},\n",
       " {0: 7, 1: 6, 2: 3, 3: 1, 4: 5, 5: 4, 6: 0, 7: 2},\n",
       " {0: 7, 1: 6, 2: 3, 3: 1, 4: 5, 5: 4, 6: 2, 7: 0},\n",
       " {0: 7, 1: 6, 2: 3, 3: 1, 4: 4, 5: 5, 6: 0, 7: 2},\n",
       " {0: 7, 1: 6, 2: 3, 3: 1, 4: 4, 5: 5, 6: 2, 7: 0},\n",
       " {0: 7, 1: 6, 2: 3, 3: 1, 4: 4, 5: 2, 6: 5, 7: 0},\n",
       " {0: 7, 1: 6, 2: 3, 3: 1, 4: 4, 5: 2, 6: 0, 7: 5},\n",
       " {0: 7, 1: 6, 2: 3, 3: 1, 4: 4, 5: 0, 6: 2, 7: 5},\n",
       " {0: 7, 1: 6, 2: 3, 3: 1, 4: 4, 5: 0, 6: 5, 7: 2},\n",
       " {0: 7, 1: 6, 2: 3, 3: 1, 4: 0, 5: 4, 6: 2, 7: 5},\n",
       " {0: 7, 1: 6, 2: 3, 3: 1, 4: 0, 5: 4, 6: 5, 7: 2},\n",
       " {0: 7, 1: 6, 2: 3, 3: 1, 4: 0, 5: 5, 6: 4, 7: 2},\n",
       " {0: 7, 1: 6, 2: 3, 3: 1, 4: 0, 5: 5, 6: 2, 7: 4},\n",
       " {0: 7, 1: 6, 2: 3, 3: 1, 4: 0, 5: 2, 6: 5, 7: 4},\n",
       " {0: 7, 1: 6, 2: 3, 3: 1, 4: 0, 5: 2, 6: 4, 7: 5},\n",
       " {0: 7, 1: 6, 2: 3, 3: 0, 4: 1, 5: 4, 6: 2, 7: 5},\n",
       " {0: 7, 1: 6, 2: 3, 3: 0, 4: 1, 5: 4, 6: 5, 7: 2},\n",
       " {0: 7, 1: 6, 2: 3, 3: 0, 4: 1, 5: 5, 6: 4, 7: 2},\n",
       " {0: 7, 1: 6, 2: 3, 3: 0, 4: 1, 5: 5, 6: 2, 7: 4},\n",
       " {0: 7, 1: 6, 2: 3, 3: 0, 4: 1, 5: 2, 6: 5, 7: 4},\n",
       " {0: 7, 1: 6, 2: 3, 3: 0, 4: 1, 5: 2, 6: 4, 7: 5},\n",
       " {0: 7, 1: 6, 2: 3, 3: 0, 4: 2, 5: 1, 6: 5, 7: 4},\n",
       " {0: 7, 1: 6, 2: 3, 3: 0, 4: 2, 5: 1, 6: 4, 7: 5},\n",
       " {0: 7, 1: 6, 2: 3, 3: 0, 4: 2, 5: 4, 6: 1, 7: 5},\n",
       " {0: 7, 1: 6, 2: 3, 3: 0, 4: 2, 5: 4, 6: 5, 7: 1},\n",
       " {0: 7, 1: 6, 2: 3, 3: 0, 4: 2, 5: 5, 6: 4, 7: 1},\n",
       " {0: 7, 1: 6, 2: 3, 3: 0, 4: 2, 5: 5, 6: 1, 7: 4},\n",
       " {0: 7, 1: 6, 2: 3, 3: 0, 4: 5, 5: 2, 6: 4, 7: 1},\n",
       " {0: 7, 1: 6, 2: 3, 3: 0, 4: 5, 5: 2, 6: 1, 7: 4},\n",
       " {0: 7, 1: 6, 2: 3, 3: 0, 4: 5, 5: 1, 6: 2, 7: 4},\n",
       " {0: 7, 1: 6, 2: 3, 3: 0, 4: 5, 5: 1, 6: 4, 7: 2},\n",
       " {0: 7, 1: 6, 2: 3, 3: 0, 4: 5, 5: 4, 6: 1, 7: 2},\n",
       " {0: 7, 1: 6, 2: 3, 3: 0, 4: 5, 5: 4, 6: 2, 7: 1},\n",
       " {0: 7, 1: 6, 2: 3, 3: 0, 4: 4, 5: 5, 6: 1, 7: 2},\n",
       " {0: 7, 1: 6, 2: 3, 3: 0, 4: 4, 5: 5, 6: 2, 7: 1},\n",
       " {0: 7, 1: 6, 2: 3, 3: 0, 4: 4, 5: 2, 6: 5, 7: 1},\n",
       " {0: 7, 1: 6, 2: 3, 3: 0, 4: 4, 5: 2, 6: 1, 7: 5},\n",
       " {0: 7, 1: 6, 2: 3, 3: 0, 4: 4, 5: 1, 6: 2, 7: 5},\n",
       " {0: 7, 1: 6, 2: 3, 3: 0, 4: 4, 5: 1, 6: 5, 7: 2},\n",
       " {0: 7, 1: 6, 2: 2, 3: 3, 4: 0, 5: 4, 6: 1, 7: 5},\n",
       " {0: 7, 1: 6, 2: 2, 3: 3, 4: 0, 5: 4, 6: 5, 7: 1},\n",
       " {0: 7, 1: 6, 2: 2, 3: 3, 4: 0, 5: 5, 6: 4, 7: 1},\n",
       " {0: 7, 1: 6, 2: 2, 3: 3, 4: 0, 5: 5, 6: 1, 7: 4},\n",
       " {0: 7, 1: 6, 2: 2, 3: 3, 4: 0, 5: 1, 6: 5, 7: 4},\n",
       " {0: 7, 1: 6, 2: 2, 3: 3, 4: 0, 5: 1, 6: 4, 7: 5},\n",
       " {0: 7, 1: 6, 2: 2, 3: 3, 4: 1, 5: 0, 6: 5, 7: 4},\n",
       " {0: 7, 1: 6, 2: 2, 3: 3, 4: 1, 5: 0, 6: 4, 7: 5},\n",
       " {0: 7, 1: 6, 2: 2, 3: 3, 4: 1, 5: 4, 6: 0, 7: 5},\n",
       " {0: 7, 1: 6, 2: 2, 3: 3, 4: 1, 5: 4, 6: 5, 7: 0},\n",
       " {0: 7, 1: 6, 2: 2, 3: 3, 4: 1, 5: 5, 6: 4, 7: 0},\n",
       " {0: 7, 1: 6, 2: 2, 3: 3, 4: 1, 5: 5, 6: 0, 7: 4},\n",
       " {0: 7, 1: 6, 2: 2, 3: 3, 4: 5, 5: 1, 6: 4, 7: 0},\n",
       " {0: 7, 1: 6, 2: 2, 3: 3, 4: 5, 5: 1, 6: 0, 7: 4},\n",
       " {0: 7, 1: 6, 2: 2, 3: 3, 4: 5, 5: 0, 6: 1, 7: 4},\n",
       " {0: 7, 1: 6, 2: 2, 3: 3, 4: 5, 5: 0, 6: 4, 7: 1},\n",
       " {0: 7, 1: 6, 2: 2, 3: 3, 4: 5, 5: 4, 6: 0, 7: 1},\n",
       " {0: 7, 1: 6, 2: 2, 3: 3, 4: 5, 5: 4, 6: 1, 7: 0},\n",
       " {0: 7, 1: 6, 2: 2, 3: 3, 4: 4, 5: 5, 6: 0, 7: 1},\n",
       " {0: 7, 1: 6, 2: 2, 3: 3, 4: 4, 5: 5, 6: 1, 7: 0},\n",
       " {0: 7, 1: 6, 2: 2, 3: 3, 4: 4, 5: 1, 6: 5, 7: 0},\n",
       " {0: 7, 1: 6, 2: 2, 3: 3, 4: 4, 5: 1, 6: 0, 7: 5},\n",
       " {0: 7, 1: 6, 2: 2, 3: 3, 4: 4, 5: 0, 6: 1, 7: 5},\n",
       " {0: 7, 1: 6, 2: 2, 3: 3, 4: 4, 5: 0, 6: 5, 7: 1},\n",
       " {0: 7, 1: 6, 2: 2, 3: 4, 4: 3, 5: 5, 6: 0, 7: 1},\n",
       " {0: 7, 1: 6, 2: 2, 3: 4, 4: 3, 5: 5, 6: 1, 7: 0},\n",
       " {0: 7, 1: 6, 2: 2, 3: 4, 4: 3, 5: 1, 6: 5, 7: 0},\n",
       " {0: 7, 1: 6, 2: 2, 3: 4, 4: 3, 5: 1, 6: 0, 7: 5},\n",
       " {0: 7, 1: 6, 2: 2, 3: 4, 4: 3, 5: 0, 6: 1, 7: 5},\n",
       " {0: 7, 1: 6, 2: 2, 3: 4, 4: 3, 5: 0, 6: 5, 7: 1},\n",
       " {0: 7, 1: 6, 2: 2, 3: 4, 4: 0, 5: 3, 6: 1, 7: 5},\n",
       " {0: 7, 1: 6, 2: 2, 3: 4, 4: 0, 5: 3, 6: 5, 7: 1},\n",
       " {0: 7, 1: 6, 2: 2, 3: 4, 4: 0, 5: 5, 6: 3, 7: 1},\n",
       " {0: 7, 1: 6, 2: 2, 3: 4, 4: 0, 5: 5, 6: 1, 7: 3},\n",
       " {0: 7, 1: 6, 2: 2, 3: 4, 4: 0, 5: 1, 6: 5, 7: 3},\n",
       " {0: 7, 1: 6, 2: 2, 3: 4, 4: 0, 5: 1, 6: 3, 7: 5},\n",
       " {0: 7, 1: 6, 2: 2, 3: 4, 4: 1, 5: 0, 6: 5, 7: 3},\n",
       " {0: 7, 1: 6, 2: 2, 3: 4, 4: 1, 5: 0, 6: 3, 7: 5},\n",
       " {0: 7, 1: 6, 2: 2, 3: 4, 4: 1, 5: 3, 6: 0, 7: 5},\n",
       " {0: 7, 1: 6, 2: 2, 3: 4, 4: 1, 5: 3, 6: 5, 7: 0},\n",
       " {0: 7, 1: 6, 2: 2, 3: 4, 4: 1, 5: 5, 6: 3, 7: 0},\n",
       " {0: 7, 1: 6, 2: 2, 3: 4, 4: 1, 5: 5, 6: 0, 7: 3},\n",
       " {0: 7, 1: 6, 2: 2, 3: 4, 4: 5, 5: 1, 6: 3, 7: 0},\n",
       " {0: 7, 1: 6, 2: 2, 3: 4, 4: 5, 5: 1, 6: 0, 7: 3},\n",
       " {0: 7, 1: 6, 2: 2, 3: 4, 4: 5, 5: 0, 6: 1, 7: 3},\n",
       " {0: 7, 1: 6, 2: 2, 3: 4, 4: 5, 5: 0, 6: 3, 7: 1},\n",
       " {0: 7, 1: 6, 2: 2, 3: 4, 4: 5, 5: 3, 6: 0, 7: 1},\n",
       " {0: 7, 1: 6, 2: 2, 3: 4, 4: 5, 5: 3, 6: 1, 7: 0},\n",
       " {0: 7, 1: 6, 2: 2, 3: 5, 4: 4, 5: 1, 6: 3, 7: 0},\n",
       " {0: 7, 1: 6, 2: 2, 3: 5, 4: 4, 5: 1, 6: 0, 7: 3},\n",
       " {0: 7, 1: 6, 2: 2, 3: 5, 4: 4, 5: 0, 6: 1, 7: 3},\n",
       " {0: 7, 1: 6, 2: 2, 3: 5, 4: 4, 5: 0, 6: 3, 7: 1},\n",
       " {0: 7, 1: 6, 2: 2, 3: 5, 4: 4, 5: 3, 6: 0, 7: 1},\n",
       " {0: 7, 1: 6, 2: 2, 3: 5, 4: 4, 5: 3, 6: 1, 7: 0},\n",
       " {0: 7, 1: 6, 2: 2, 3: 5, 4: 3, 5: 4, 6: 0, 7: 1},\n",
       " {0: 7, 1: 6, 2: 2, 3: 5, 4: 3, 5: 4, 6: 1, 7: 0},\n",
       " {0: 7, 1: 6, 2: 2, 3: 5, 4: 3, 5: 1, 6: 4, 7: 0},\n",
       " {0: 7, 1: 6, 2: 2, 3: 5, 4: 3, 5: 1, 6: 0, 7: 4},\n",
       " {0: 7, 1: 6, 2: 2, 3: 5, 4: 3, 5: 0, 6: 1, 7: 4},\n",
       " {0: 7, 1: 6, 2: 2, 3: 5, 4: 3, 5: 0, 6: 4, 7: 1},\n",
       " {0: 7, 1: 6, 2: 2, 3: 5, 4: 0, 5: 3, 6: 1, 7: 4},\n",
       " {0: 7, 1: 6, 2: 2, 3: 5, 4: 0, 5: 3, 6: 4, 7: 1},\n",
       " {0: 7, 1: 6, 2: 2, 3: 5, 4: 0, 5: 4, 6: 3, 7: 1},\n",
       " {0: 7, 1: 6, 2: 2, 3: 5, 4: 0, 5: 4, 6: 1, 7: 3},\n",
       " {0: 7, 1: 6, 2: 2, 3: 5, 4: 0, 5: 1, 6: 4, 7: 3},\n",
       " {0: 7, 1: 6, 2: 2, 3: 5, 4: 0, 5: 1, 6: 3, 7: 4},\n",
       " {0: 7, 1: 6, 2: 2, 3: 5, 4: 1, 5: 0, 6: 4, 7: 3},\n",
       " {0: 7, 1: 6, 2: 2, 3: 5, 4: 1, 5: 0, 6: 3, 7: 4},\n",
       " {0: 7, 1: 6, 2: 2, 3: 5, 4: 1, 5: 3, 6: 0, 7: 4},\n",
       " {0: 7, 1: 6, 2: 2, 3: 5, 4: 1, 5: 3, 6: 4, 7: 0},\n",
       " {0: 7, 1: 6, 2: 2, 3: 5, 4: 1, 5: 4, 6: 3, 7: 0},\n",
       " {0: 7, 1: 6, 2: 2, 3: 5, 4: 1, 5: 4, 6: 0, 7: 3},\n",
       " {0: 7, 1: 6, 2: 2, 3: 1, 4: 5, 5: 0, 6: 4, 7: 3},\n",
       " {0: 7, 1: 6, 2: 2, 3: 1, 4: 5, 5: 0, 6: 3, 7: 4},\n",
       " {0: 7, 1: 6, 2: 2, 3: 1, 4: 5, 5: 3, 6: 0, 7: 4},\n",
       " {0: 7, 1: 6, 2: 2, 3: 1, 4: 5, 5: 3, 6: 4, 7: 0},\n",
       " {0: 7, 1: 6, 2: 2, 3: 1, 4: 5, 5: 4, 6: 3, 7: 0},\n",
       " {0: 7, 1: 6, 2: 2, 3: 1, 4: 5, 5: 4, 6: 0, 7: 3},\n",
       " {0: 7, 1: 6, 2: 2, 3: 1, 4: 4, 5: 5, 6: 3, 7: 0},\n",
       " {0: 7, 1: 6, 2: 2, 3: 1, 4: 4, 5: 5, 6: 0, 7: 3},\n",
       " {0: 7, 1: 6, 2: 2, 3: 1, 4: 4, 5: 0, 6: 5, 7: 3},\n",
       " {0: 7, 1: 6, 2: 2, 3: 1, 4: 4, 5: 0, 6: 3, 7: 5},\n",
       " {0: 7, 1: 6, 2: 2, 3: 1, 4: 4, 5: 3, 6: 0, 7: 5},\n",
       " {0: 7, 1: 6, 2: 2, 3: 1, 4: 4, 5: 3, 6: 5, 7: 0},\n",
       " {0: 7, 1: 6, 2: 2, 3: 1, 4: 3, 5: 4, 6: 0, 7: 5},\n",
       " {0: 7, 1: 6, 2: 2, 3: 1, 4: 3, 5: 4, 6: 5, 7: 0},\n",
       " {0: 7, 1: 6, 2: 2, 3: 1, 4: 3, 5: 5, 6: 4, 7: 0},\n",
       " {0: 7, 1: 6, 2: 2, 3: 1, 4: 3, 5: 5, 6: 0, 7: 4},\n",
       " {0: 7, 1: 6, 2: 2, 3: 1, 4: 3, 5: 0, 6: 5, 7: 4},\n",
       " {0: 7, 1: 6, 2: 2, 3: 1, 4: 3, 5: 0, 6: 4, 7: 5},\n",
       " {0: 7, 1: 6, 2: 2, 3: 1, 4: 0, 5: 3, 6: 5, 7: 4},\n",
       " {0: 7, 1: 6, 2: 2, 3: 1, 4: 0, 5: 3, 6: 4, 7: 5},\n",
       " {0: 7, 1: 6, 2: 2, 3: 1, 4: 0, 5: 4, 6: 3, 7: 5},\n",
       " {0: 7, 1: 6, 2: 2, 3: 1, 4: 0, 5: 4, 6: 5, 7: 3},\n",
       " {0: 7, 1: 6, 2: 2, 3: 1, 4: 0, 5: 5, 6: 4, 7: 3},\n",
       " {0: 7, 1: 6, 2: 2, 3: 1, 4: 0, 5: 5, 6: 3, 7: 4},\n",
       " {0: 7, 1: 6, 2: 2, 3: 0, 4: 1, 5: 3, 6: 5, 7: 4},\n",
       " {0: 7, 1: 6, 2: 2, 3: 0, 4: 1, 5: 3, 6: 4, 7: 5},\n",
       " {0: 7, 1: 6, 2: 2, 3: 0, 4: 1, 5: 4, 6: 3, 7: 5},\n",
       " {0: 7, 1: 6, 2: 2, 3: 0, 4: 1, 5: 4, 6: 5, 7: 3},\n",
       " {0: 7, 1: 6, 2: 2, 3: 0, 4: 1, 5: 5, 6: 4, 7: 3},\n",
       " {0: 7, 1: 6, 2: 2, 3: 0, 4: 1, 5: 5, 6: 3, 7: 4},\n",
       " {0: 7, 1: 6, 2: 2, 3: 0, 4: 5, 5: 1, 6: 4, 7: 3},\n",
       " {0: 7, 1: 6, 2: 2, 3: 0, 4: 5, 5: 1, 6: 3, 7: 4},\n",
       " {0: 7, 1: 6, 2: 2, 3: 0, 4: 5, 5: 3, 6: 1, 7: 4},\n",
       " {0: 7, 1: 6, 2: 2, 3: 0, 4: 5, 5: 3, 6: 4, 7: 1},\n",
       " {0: 7, 1: 6, 2: 2, 3: 0, 4: 5, 5: 4, 6: 3, 7: 1},\n",
       " {0: 7, 1: 6, 2: 2, 3: 0, 4: 5, 5: 4, 6: 1, 7: 3},\n",
       " {0: 7, 1: 6, 2: 2, 3: 0, 4: 4, 5: 5, 6: 3, 7: 1},\n",
       " {0: 7, 1: 6, 2: 2, 3: 0, 4: 4, 5: 5, 6: 1, 7: 3},\n",
       " {0: 7, 1: 6, 2: 2, 3: 0, 4: 4, 5: 1, 6: 5, 7: 3},\n",
       " {0: 7, 1: 6, 2: 2, 3: 0, 4: 4, 5: 1, 6: 3, 7: 5},\n",
       " {0: 7, 1: 6, 2: 2, 3: 0, 4: 4, 5: 3, 6: 1, 7: 5},\n",
       " {0: 7, 1: 6, 2: 2, 3: 0, 4: 4, 5: 3, 6: 5, 7: 1},\n",
       " {0: 7, 1: 6, 2: 2, 3: 0, 4: 3, 5: 4, 6: 1, 7: 5},\n",
       " {0: 7, 1: 6, 2: 2, 3: 0, 4: 3, 5: 4, 6: 5, 7: 1},\n",
       " {0: 7, 1: 6, 2: 2, 3: 0, 4: 3, 5: 5, 6: 4, 7: 1},\n",
       " {0: 7, 1: 6, 2: 2, 3: 0, 4: 3, 5: 5, 6: 1, 7: 4},\n",
       " {0: 7, 1: 6, 2: 2, 3: 0, 4: 3, 5: 1, 6: 5, 7: 4},\n",
       " {0: 7, 1: 6, 2: 2, 3: 0, 4: 3, 5: 1, 6: 4, 7: 5},\n",
       " {0: 7, 1: 6, 2: 1, 3: 2, 4: 0, 5: 3, 6: 5, 7: 4},\n",
       " {0: 7, 1: 6, 2: 1, 3: 2, 4: 0, 5: 3, 6: 4, 7: 5},\n",
       " {0: 7, 1: 6, 2: 1, 3: 2, 4: 0, 5: 4, 6: 3, 7: 5},\n",
       " {0: 7, 1: 6, 2: 1, 3: 2, 4: 0, 5: 4, 6: 5, 7: 3},\n",
       " {0: 7, 1: 6, 2: 1, 3: 2, 4: 0, 5: 5, 6: 4, 7: 3},\n",
       " {0: 7, 1: 6, 2: 1, 3: 2, 4: 0, 5: 5, 6: 3, 7: 4},\n",
       " {0: 7, 1: 6, 2: 1, 3: 2, 4: 5, 5: 0, 6: 4, 7: 3},\n",
       " {0: 7, 1: 6, 2: 1, 3: 2, 4: 5, 5: 0, 6: 3, 7: 4},\n",
       " {0: 7, 1: 6, 2: 1, 3: 2, 4: 5, 5: 3, 6: 0, 7: 4},\n",
       " {0: 7, 1: 6, 2: 1, 3: 2, 4: 5, 5: 3, 6: 4, 7: 0},\n",
       " {0: 7, 1: 6, 2: 1, 3: 2, 4: 5, 5: 4, 6: 3, 7: 0},\n",
       " {0: 7, 1: 6, 2: 1, 3: 2, 4: 5, 5: 4, 6: 0, 7: 3},\n",
       " {0: 7, 1: 6, 2: 1, 3: 2, 4: 4, 5: 5, 6: 3, 7: 0},\n",
       " {0: 7, 1: 6, 2: 1, 3: 2, 4: 4, 5: 5, 6: 0, 7: 3},\n",
       " {0: 7, 1: 6, 2: 1, 3: 2, 4: 4, 5: 0, 6: 5, 7: 3},\n",
       " {0: 7, 1: 6, 2: 1, 3: 2, 4: 4, 5: 0, 6: 3, 7: 5},\n",
       " {0: 7, 1: 6, 2: 1, 3: 2, 4: 4, 5: 3, 6: 0, 7: 5},\n",
       " {0: 7, 1: 6, 2: 1, 3: 2, 4: 4, 5: 3, 6: 5, 7: 0},\n",
       " {0: 7, 1: 6, 2: 1, 3: 2, 4: 3, 5: 4, 6: 0, 7: 5},\n",
       " {0: 7, 1: 6, 2: 1, 3: 2, 4: 3, 5: 4, 6: 5, 7: 0},\n",
       " {0: 7, 1: 6, 2: 1, 3: 2, 4: 3, 5: 5, 6: 4, 7: 0},\n",
       " {0: 7, 1: 6, 2: 1, 3: 2, 4: 3, 5: 5, 6: 0, 7: 4},\n",
       " {0: 7, 1: 6, 2: 1, 3: 2, 4: 3, 5: 0, 6: 5, 7: 4},\n",
       " {0: 7, 1: 6, 2: 1, 3: 2, 4: 3, 5: 0, 6: 4, 7: 5},\n",
       " {0: 7, 1: 6, 2: 1, 3: 3, 4: 2, 5: 4, 6: 0, 7: 5},\n",
       " {0: 7, 1: 6, 2: 1, 3: 3, 4: 2, 5: 4, 6: 5, 7: 0},\n",
       " {0: 7, 1: 6, 2: 1, 3: 3, 4: 2, 5: 5, 6: 4, 7: 0},\n",
       " {0: 7, 1: 6, 2: 1, 3: 3, 4: 2, 5: 5, 6: 0, 7: 4},\n",
       " {0: 7, 1: 6, 2: 1, 3: 3, 4: 2, 5: 0, 6: 5, 7: 4},\n",
       " {0: 7, 1: 6, 2: 1, 3: 3, 4: 2, 5: 0, 6: 4, 7: 5},\n",
       " {0: 7, 1: 6, 2: 1, 3: 3, 4: 0, 5: 2, 6: 5, 7: 4},\n",
       " {0: 7, 1: 6, 2: 1, 3: 3, 4: 0, 5: 2, 6: 4, 7: 5},\n",
       " {0: 7, 1: 6, 2: 1, 3: 3, 4: 0, 5: 4, 6: 2, 7: 5},\n",
       " {0: 7, 1: 6, 2: 1, 3: 3, 4: 0, 5: 4, 6: 5, 7: 2},\n",
       " {0: 7, 1: 6, 2: 1, 3: 3, 4: 0, 5: 5, 6: 4, 7: 2},\n",
       " {0: 7, 1: 6, 2: 1, 3: 3, 4: 0, 5: 5, 6: 2, 7: 4},\n",
       " {0: 7, 1: 6, 2: 1, 3: 3, 4: 5, 5: 0, 6: 4, 7: 2},\n",
       " {0: 7, 1: 6, 2: 1, 3: 3, 4: 5, 5: 0, 6: 2, 7: 4},\n",
       " {0: 7, 1: 6, 2: 1, 3: 3, 4: 5, 5: 2, 6: 0, 7: 4},\n",
       " {0: 7, 1: 6, 2: 1, 3: 3, 4: 5, 5: 2, 6: 4, 7: 0},\n",
       " {0: 7, 1: 6, 2: 1, 3: 3, 4: 5, 5: 4, 6: 2, 7: 0},\n",
       " {0: 7, 1: 6, 2: 1, 3: 3, 4: 5, 5: 4, 6: 0, 7: 2},\n",
       " {0: 7, 1: 6, 2: 1, 3: 3, 4: 4, 5: 5, 6: 2, 7: 0},\n",
       " {0: 7, 1: 6, 2: 1, 3: 3, 4: 4, 5: 5, 6: 0, 7: 2},\n",
       " {0: 7, 1: 6, 2: 1, 3: 3, 4: 4, 5: 0, 6: 5, 7: 2},\n",
       " {0: 7, 1: 6, 2: 1, 3: 3, 4: 4, 5: 0, 6: 2, 7: 5},\n",
       " {0: 7, 1: 6, 2: 1, 3: 3, 4: 4, 5: 2, 6: 0, 7: 5},\n",
       " {0: 7, 1: 6, 2: 1, 3: 3, 4: 4, 5: 2, 6: 5, 7: 0},\n",
       " {0: 7, 1: 6, 2: 1, 3: 4, 4: 3, 5: 5, 6: 2, 7: 0},\n",
       " {0: 7, 1: 6, 2: 1, 3: 4, 4: 3, 5: 5, 6: 0, 7: 2},\n",
       " {0: 7, 1: 6, 2: 1, 3: 4, 4: 3, 5: 0, 6: 5, 7: 2},\n",
       " {0: 7, 1: 6, 2: 1, 3: 4, 4: 3, 5: 0, 6: 2, 7: 5},\n",
       " {0: 7, 1: 6, 2: 1, 3: 4, 4: 3, 5: 2, 6: 0, 7: 5},\n",
       " {0: 7, 1: 6, 2: 1, 3: 4, 4: 3, 5: 2, 6: 5, 7: 0},\n",
       " {0: 7, 1: 6, 2: 1, 3: 4, 4: 2, 5: 3, 6: 0, 7: 5},\n",
       " {0: 7, 1: 6, 2: 1, 3: 4, 4: 2, 5: 3, 6: 5, 7: 0},\n",
       " {0: 7, 1: 6, 2: 1, 3: 4, 4: 2, 5: 5, 6: 3, 7: 0},\n",
       " {0: 7, 1: 6, 2: 1, 3: 4, 4: 2, 5: 5, 6: 0, 7: 3},\n",
       " {0: 7, 1: 6, 2: 1, 3: 4, 4: 2, 5: 0, 6: 5, 7: 3},\n",
       " {0: 7, 1: 6, 2: 1, 3: 4, 4: 2, 5: 0, 6: 3, 7: 5},\n",
       " {0: 7, 1: 6, 2: 1, 3: 4, 4: 0, 5: 2, 6: 5, 7: 3},\n",
       " {0: 7, 1: 6, 2: 1, 3: 4, 4: 0, 5: 2, 6: 3, 7: 5},\n",
       " {0: 7, 1: 6, 2: 1, 3: 4, 4: 0, 5: 3, 6: 2, 7: 5},\n",
       " {0: 7, 1: 6, 2: 1, 3: 4, 4: 0, 5: 3, 6: 5, 7: 2},\n",
       " {0: 7, 1: 6, 2: 1, 3: 4, 4: 0, 5: 5, 6: 3, 7: 2},\n",
       " {0: 7, 1: 6, 2: 1, 3: 4, 4: 0, 5: 5, 6: 2, 7: 3},\n",
       " {0: 7, 1: 6, 2: 1, 3: 4, 4: 5, 5: 0, 6: 3, 7: 2},\n",
       " {0: 7, 1: 6, 2: 1, 3: 4, 4: 5, 5: 0, 6: 2, 7: 3},\n",
       " {0: 7, 1: 6, 2: 1, 3: 4, 4: 5, 5: 2, 6: 0, 7: 3},\n",
       " {0: 7, 1: 6, 2: 1, 3: 4, 4: 5, 5: 2, 6: 3, 7: 0},\n",
       " {0: 7, 1: 6, 2: 1, 3: 4, 4: 5, 5: 3, 6: 2, 7: 0},\n",
       " {0: 7, 1: 6, 2: 1, 3: 4, 4: 5, 5: 3, 6: 0, 7: 2},\n",
       " {0: 7, 1: 6, 2: 1, 3: 5, 4: 4, 5: 0, 6: 3, 7: 2},\n",
       " {0: 7, 1: 6, 2: 1, 3: 5, 4: 4, 5: 0, 6: 2, 7: 3},\n",
       " {0: 7, 1: 6, 2: 1, 3: 5, 4: 4, 5: 2, 6: 0, 7: 3},\n",
       " {0: 7, 1: 6, 2: 1, 3: 5, 4: 4, 5: 2, 6: 3, 7: 0},\n",
       " {0: 7, 1: 6, 2: 1, 3: 5, 4: 4, 5: 3, 6: 2, 7: 0},\n",
       " {0: 7, 1: 6, 2: 1, 3: 5, 4: 4, 5: 3, 6: 0, 7: 2},\n",
       " {0: 7, 1: 6, 2: 1, 3: 5, 4: 3, 5: 4, 6: 2, 7: 0},\n",
       " {0: 7, 1: 6, 2: 1, 3: 5, 4: 3, 5: 4, 6: 0, 7: 2},\n",
       " {0: 7, 1: 6, 2: 1, 3: 5, 4: 3, 5: 0, 6: 4, 7: 2},\n",
       " {0: 7, 1: 6, 2: 1, 3: 5, 4: 3, 5: 0, 6: 2, 7: 4},\n",
       " {0: 7, 1: 6, 2: 1, 3: 5, 4: 3, 5: 2, 6: 0, 7: 4},\n",
       " {0: 7, 1: 6, 2: 1, 3: 5, 4: 3, 5: 2, 6: 4, 7: 0},\n",
       " {0: 7, 1: 6, 2: 1, 3: 5, 4: 2, 5: 3, 6: 0, 7: 4},\n",
       " {0: 7, 1: 6, 2: 1, 3: 5, 4: 2, 5: 3, 6: 4, 7: 0},\n",
       " {0: 7, 1: 6, 2: 1, 3: 5, 4: 2, 5: 4, 6: 3, 7: 0},\n",
       " {0: 7, 1: 6, 2: 1, 3: 5, 4: 2, 5: 4, 6: 0, 7: 3},\n",
       " {0: 7, 1: 6, 2: 1, 3: 5, 4: 2, 5: 0, 6: 4, 7: 3},\n",
       " {0: 7, 1: 6, 2: 1, 3: 5, 4: 2, 5: 0, 6: 3, 7: 4},\n",
       " {0: 7, 1: 6, 2: 1, 3: 5, 4: 0, 5: 2, 6: 4, 7: 3},\n",
       " {0: 7, 1: 6, 2: 1, 3: 5, 4: 0, 5: 2, 6: 3, 7: 4},\n",
       " {0: 7, 1: 6, 2: 1, 3: 5, 4: 0, 5: 3, 6: 2, 7: 4},\n",
       " {0: 7, 1: 6, 2: 1, 3: 5, 4: 0, 5: 3, 6: 4, 7: 2},\n",
       " {0: 7, 1: 6, 2: 1, 3: 5, 4: 0, 5: 4, 6: 3, 7: 2},\n",
       " {0: 7, 1: 6, 2: 1, 3: 5, 4: 0, 5: 4, 6: 2, 7: 3},\n",
       " {0: 7, 1: 6, 2: 1, 3: 0, 4: 5, 5: 2, 6: 4, 7: 3},\n",
       " {0: 7, 1: 6, 2: 1, 3: 0, 4: 5, 5: 2, 6: 3, 7: 4},\n",
       " {0: 7, 1: 6, 2: 1, 3: 0, 4: 5, 5: 3, 6: 2, 7: 4},\n",
       " {0: 7, 1: 6, 2: 1, 3: 0, 4: 5, 5: 3, 6: 4, 7: 2},\n",
       " {0: 7, 1: 6, 2: 1, 3: 0, 4: 5, 5: 4, 6: 3, 7: 2},\n",
       " {0: 7, 1: 6, 2: 1, 3: 0, 4: 5, 5: 4, 6: 2, 7: 3},\n",
       " {0: 7, 1: 6, 2: 1, 3: 0, 4: 4, 5: 5, 6: 3, 7: 2},\n",
       " {0: 7, 1: 6, 2: 1, 3: 0, 4: 4, 5: 5, 6: 2, 7: 3},\n",
       " {0: 7, 1: 6, 2: 1, 3: 0, 4: 4, 5: 2, 6: 5, 7: 3},\n",
       " {0: 7, 1: 6, 2: 1, 3: 0, 4: 4, 5: 2, 6: 3, 7: 5},\n",
       " {0: 7, 1: 6, 2: 1, 3: 0, 4: 4, 5: 3, 6: 2, 7: 5},\n",
       " {0: 7, 1: 6, 2: 1, 3: 0, 4: 4, 5: 3, 6: 5, 7: 2},\n",
       " {0: 7, 1: 6, 2: 1, 3: 0, 4: 3, 5: 4, 6: 2, 7: 5},\n",
       " {0: 7, 1: 6, 2: 1, 3: 0, 4: 3, 5: 4, 6: 5, 7: 2},\n",
       " {0: 7, 1: 6, 2: 1, 3: 0, 4: 3, 5: 5, 6: 4, 7: 2},\n",
       " {0: 7, 1: 6, 2: 1, 3: 0, 4: 3, 5: 5, 6: 2, 7: 4},\n",
       " {0: 7, 1: 6, 2: 1, 3: 0, 4: 3, 5: 2, 6: 5, 7: 4},\n",
       " {0: 7, 1: 6, 2: 1, 3: 0, 4: 3, 5: 2, 6: 4, 7: 5},\n",
       " {0: 7, 1: 6, 2: 1, 3: 0, 4: 2, 5: 3, 6: 5, 7: 4},\n",
       " {0: 7, 1: 6, 2: 1, 3: 0, 4: 2, 5: 3, 6: 4, 7: 5},\n",
       " {0: 7, 1: 6, 2: 1, 3: 0, 4: 2, 5: 4, 6: 3, 7: 5},\n",
       " {0: 7, 1: 6, 2: 1, 3: 0, 4: 2, 5: 4, 6: 5, 7: 3},\n",
       " {0: 7, 1: 6, 2: 1, 3: 0, 4: 2, 5: 5, 6: 4, 7: 3},\n",
       " {0: 7, 1: 6, 2: 1, 3: 0, 4: 2, 5: 5, 6: 3, 7: 4},\n",
       " {0: 7, 1: 6, 2: 0, 3: 1, 4: 5, 5: 2, 6: 4, 7: 3},\n",
       " {0: 7, 1: 6, 2: 0, 3: 1, 4: 5, 5: 2, 6: 3, 7: 4},\n",
       " {0: 7, 1: 6, 2: 0, 3: 1, 4: 5, 5: 3, 6: 2, 7: 4},\n",
       " {0: 7, 1: 6, 2: 0, 3: 1, 4: 5, 5: 3, 6: 4, 7: 2},\n",
       " {0: 7, 1: 6, 2: 0, 3: 1, 4: 5, 5: 4, 6: 3, 7: 2},\n",
       " {0: 7, 1: 6, 2: 0, 3: 1, 4: 5, 5: 4, 6: 2, 7: 3},\n",
       " {0: 7, 1: 6, 2: 0, 3: 1, 4: 4, 5: 5, 6: 3, 7: 2},\n",
       " {0: 7, 1: 6, 2: 0, 3: 1, 4: 4, 5: 5, 6: 2, 7: 3},\n",
       " {0: 7, 1: 6, 2: 0, 3: 1, 4: 4, 5: 2, 6: 5, 7: 3},\n",
       " {0: 7, 1: 6, 2: 0, 3: 1, 4: 4, 5: 2, 6: 3, 7: 5},\n",
       " {0: 7, 1: 6, 2: 0, 3: 1, 4: 4, 5: 3, 6: 2, 7: 5},\n",
       " {0: 7, 1: 6, 2: 0, 3: 1, 4: 4, 5: 3, 6: 5, 7: 2},\n",
       " {0: 7, 1: 6, 2: 0, 3: 1, 4: 3, 5: 4, 6: 2, 7: 5},\n",
       " {0: 7, 1: 6, 2: 0, 3: 1, 4: 3, 5: 4, 6: 5, 7: 2},\n",
       " {0: 7, 1: 6, 2: 0, 3: 1, 4: 3, 5: 5, 6: 4, 7: 2},\n",
       " {0: 7, 1: 6, 2: 0, 3: 1, 4: 3, 5: 5, 6: 2, 7: 4},\n",
       " {0: 7, 1: 6, 2: 0, 3: 1, 4: 3, 5: 2, 6: 5, 7: 4},\n",
       " {0: 7, 1: 6, 2: 0, 3: 1, 4: 3, 5: 2, 6: 4, 7: 5},\n",
       " {0: 7, 1: 6, 2: 0, 3: 1, 4: 2, 5: 3, 6: 5, 7: 4},\n",
       " {0: 7, 1: 6, 2: 0, 3: 1, 4: 2, 5: 3, 6: 4, 7: 5},\n",
       " {0: 7, 1: 6, 2: 0, 3: 1, 4: 2, 5: 4, 6: 3, 7: 5},\n",
       " {0: 7, 1: 6, 2: 0, 3: 1, 4: 2, 5: 4, 6: 5, 7: 3},\n",
       " {0: 7, 1: 6, 2: 0, 3: 1, 4: 2, 5: 5, 6: 4, 7: 3},\n",
       " {0: 7, 1: 6, 2: 0, 3: 1, 4: 2, 5: 5, 6: 3, 7: 4},\n",
       " {0: 7, 1: 6, 2: 0, 3: 2, 4: 1, 5: 3, 6: 5, 7: 4},\n",
       " {0: 7, 1: 6, 2: 0, 3: 2, 4: 1, 5: 3, 6: 4, 7: 5},\n",
       " {0: 7, 1: 6, 2: 0, 3: 2, 4: 1, 5: 4, 6: 3, 7: 5},\n",
       " {0: 7, 1: 6, 2: 0, 3: 2, 4: 1, 5: 4, 6: 5, 7: 3},\n",
       " {0: 7, 1: 6, 2: 0, 3: 2, 4: 1, 5: 5, 6: 4, 7: 3},\n",
       " {0: 7, 1: 6, 2: 0, 3: 2, 4: 1, 5: 5, 6: 3, 7: 4},\n",
       " {0: 7, 1: 6, 2: 0, 3: 2, 4: 5, 5: 1, 6: 4, 7: 3},\n",
       " {0: 7, 1: 6, 2: 0, 3: 2, 4: 5, 5: 1, 6: 3, 7: 4},\n",
       " {0: 7, 1: 6, 2: 0, 3: 2, 4: 5, 5: 3, 6: 1, 7: 4},\n",
       " {0: 7, 1: 6, 2: 0, 3: 2, 4: 5, 5: 3, 6: 4, 7: 1},\n",
       " {0: 7, 1: 6, 2: 0, 3: 2, 4: 5, 5: 4, 6: 3, 7: 1},\n",
       " {0: 7, 1: 6, 2: 0, 3: 2, 4: 5, 5: 4, 6: 1, 7: 3},\n",
       " {0: 7, 1: 6, 2: 0, 3: 2, 4: 4, 5: 5, 6: 3, 7: 1},\n",
       " {0: 7, 1: 6, 2: 0, 3: 2, 4: 4, 5: 5, 6: 1, 7: 3},\n",
       " {0: 7, 1: 6, 2: 0, 3: 2, 4: 4, 5: 1, 6: 5, 7: 3},\n",
       " {0: 7, 1: 6, 2: 0, 3: 2, 4: 4, 5: 1, 6: 3, 7: 5},\n",
       " {0: 7, 1: 6, 2: 0, 3: 2, 4: 4, 5: 3, 6: 1, 7: 5},\n",
       " {0: 7, 1: 6, 2: 0, 3: 2, 4: 4, 5: 3, 6: 5, 7: 1},\n",
       " {0: 7, 1: 6, 2: 0, 3: 2, 4: 3, 5: 4, 6: 1, 7: 5},\n",
       " {0: 7, 1: 6, 2: 0, 3: 2, 4: 3, 5: 4, 6: 5, 7: 1},\n",
       " {0: 7, 1: 6, 2: 0, 3: 2, 4: 3, 5: 5, 6: 4, 7: 1},\n",
       " {0: 7, 1: 6, 2: 0, 3: 2, 4: 3, 5: 5, 6: 1, 7: 4},\n",
       " {0: 7, 1: 6, 2: 0, 3: 2, 4: 3, 5: 1, 6: 5, 7: 4},\n",
       " {0: 7, 1: 6, 2: 0, 3: 2, 4: 3, 5: 1, 6: 4, 7: 5},\n",
       " {0: 7, 1: 6, 2: 0, 3: 3, 4: 2, 5: 4, 6: 1, 7: 5},\n",
       " {0: 7, 1: 6, 2: 0, 3: 3, 4: 2, 5: 4, 6: 5, 7: 1},\n",
       " {0: 7, 1: 6, 2: 0, 3: 3, 4: 2, 5: 5, 6: 4, 7: 1},\n",
       " {0: 7, 1: 6, 2: 0, 3: 3, 4: 2, 5: 5, 6: 1, 7: 4},\n",
       " {0: 7, 1: 6, 2: 0, 3: 3, 4: 2, 5: 1, 6: 5, 7: 4},\n",
       " {0: 7, 1: 6, 2: 0, 3: 3, 4: 2, 5: 1, 6: 4, 7: 5},\n",
       " {0: 7, 1: 6, 2: 0, 3: 3, 4: 1, 5: 2, 6: 5, 7: 4},\n",
       " {0: 7, 1: 6, 2: 0, 3: 3, 4: 1, 5: 2, 6: 4, 7: 5},\n",
       " {0: 7, 1: 6, 2: 0, 3: 3, 4: 1, 5: 4, 6: 2, 7: 5},\n",
       " {0: 7, 1: 6, 2: 0, 3: 3, 4: 1, 5: 4, 6: 5, 7: 2},\n",
       " {0: 7, 1: 6, 2: 0, 3: 3, 4: 1, 5: 5, 6: 4, 7: 2},\n",
       " {0: 7, 1: 6, 2: 0, 3: 3, 4: 1, 5: 5, 6: 2, 7: 4},\n",
       " {0: 7, 1: 6, 2: 0, 3: 3, 4: 5, 5: 1, 6: 4, 7: 2},\n",
       " {0: 7, 1: 6, 2: 0, 3: 3, 4: 5, 5: 1, 6: 2, 7: 4},\n",
       " {0: 7, 1: 6, 2: 0, 3: 3, 4: 5, 5: 2, 6: 1, 7: 4},\n",
       " {0: 7, 1: 6, 2: 0, 3: 3, 4: 5, 5: 2, 6: 4, 7: 1},\n",
       " {0: 7, 1: 6, 2: 0, 3: 3, 4: 5, 5: 4, 6: 2, 7: 1},\n",
       " {0: 7, 1: 6, 2: 0, 3: 3, 4: 5, 5: 4, 6: 1, 7: 2},\n",
       " {0: 7, 1: 6, 2: 0, 3: 3, 4: 4, 5: 5, 6: 2, 7: 1},\n",
       " {0: 7, 1: 6, 2: 0, 3: 3, 4: 4, 5: 5, 6: 1, 7: 2},\n",
       " {0: 7, 1: 6, 2: 0, 3: 3, 4: 4, 5: 1, 6: 5, 7: 2},\n",
       " {0: 7, 1: 6, 2: 0, 3: 3, 4: 4, 5: 1, 6: 2, 7: 5},\n",
       " {0: 7, 1: 6, 2: 0, 3: 3, 4: 4, 5: 2, 6: 1, 7: 5},\n",
       " {0: 7, 1: 6, 2: 0, 3: 3, 4: 4, 5: 2, 6: 5, 7: 1},\n",
       " {0: 7, 1: 6, 2: 0, 3: 4, 4: 3, 5: 5, 6: 2, 7: 1},\n",
       " {0: 7, 1: 6, 2: 0, 3: 4, 4: 3, 5: 5, 6: 1, 7: 2},\n",
       " {0: 7, 1: 6, 2: 0, 3: 4, 4: 3, 5: 1, 6: 5, 7: 2},\n",
       " {0: 7, 1: 6, 2: 0, 3: 4, 4: 3, 5: 1, 6: 2, 7: 5},\n",
       " {0: 7, 1: 6, 2: 0, 3: 4, 4: 3, 5: 2, 6: 1, 7: 5},\n",
       " {0: 7, 1: 6, 2: 0, 3: 4, 4: 3, 5: 2, 6: 5, 7: 1},\n",
       " {0: 7, 1: 6, 2: 0, 3: 4, 4: 2, 5: 3, 6: 1, 7: 5},\n",
       " {0: 7, 1: 6, 2: 0, 3: 4, 4: 2, 5: 3, 6: 5, 7: 1},\n",
       " {0: 7, 1: 6, 2: 0, 3: 4, 4: 2, 5: 5, 6: 3, 7: 1},\n",
       " {0: 7, 1: 6, 2: 0, 3: 4, 4: 2, 5: 5, 6: 1, 7: 3},\n",
       " {0: 7, 1: 6, 2: 0, 3: 4, 4: 2, 5: 1, 6: 5, 7: 3},\n",
       " {0: 7, 1: 6, 2: 0, 3: 4, 4: 2, 5: 1, 6: 3, 7: 5},\n",
       " {0: 7, 1: 6, 2: 0, 3: 4, 4: 1, 5: 2, 6: 5, 7: 3},\n",
       " {0: 7, 1: 6, 2: 0, 3: 4, 4: 1, 5: 2, 6: 3, 7: 5},\n",
       " {0: 7, 1: 6, 2: 0, 3: 4, 4: 1, 5: 3, 6: 2, 7: 5},\n",
       " {0: 7, 1: 6, 2: 0, 3: 4, 4: 1, 5: 3, 6: 5, 7: 2},\n",
       " {0: 7, 1: 6, 2: 0, 3: 4, 4: 1, 5: 5, 6: 3, 7: 2},\n",
       " {0: 7, 1: 6, 2: 0, 3: 4, 4: 1, 5: 5, 6: 2, 7: 3},\n",
       " {0: 7, 1: 6, 2: 0, 3: 4, 4: 5, 5: 1, 6: 3, 7: 2},\n",
       " {0: 7, 1: 6, 2: 0, 3: 4, 4: 5, 5: 1, 6: 2, 7: 3},\n",
       " {0: 7, 1: 6, 2: 0, 3: 4, 4: 5, 5: 2, 6: 1, 7: 3},\n",
       " {0: 7, 1: 6, 2: 0, 3: 4, 4: 5, 5: 2, 6: 3, 7: 1},\n",
       " {0: 7, 1: 6, 2: 0, 3: 4, 4: 5, 5: 3, 6: 2, 7: 1},\n",
       " {0: 7, 1: 6, 2: 0, 3: 4, 4: 5, 5: 3, 6: 1, 7: 2},\n",
       " {0: 7, 1: 6, 2: 0, 3: 5, 4: 4, 5: 1, 6: 3, 7: 2},\n",
       " {0: 7, 1: 6, 2: 0, 3: 5, 4: 4, 5: 1, 6: 2, 7: 3},\n",
       " {0: 7, 1: 6, 2: 0, 3: 5, 4: 4, 5: 2, 6: 1, 7: 3},\n",
       " {0: 7, 1: 6, 2: 0, 3: 5, 4: 4, 5: 2, 6: 3, 7: 1},\n",
       " {0: 7, 1: 6, 2: 0, 3: 5, 4: 4, 5: 3, 6: 2, 7: 1},\n",
       " {0: 7, 1: 6, 2: 0, 3: 5, 4: 4, 5: 3, 6: 1, 7: 2},\n",
       " {0: 7, 1: 6, 2: 0, 3: 5, 4: 3, 5: 4, 6: 2, 7: 1},\n",
       " {0: 7, 1: 6, 2: 0, 3: 5, 4: 3, 5: 4, 6: 1, 7: 2},\n",
       " {0: 7, 1: 6, 2: 0, 3: 5, 4: 3, 5: 1, 6: 4, 7: 2},\n",
       " {0: 7, 1: 6, 2: 0, 3: 5, 4: 3, 5: 1, 6: 2, 7: 4},\n",
       " {0: 7, 1: 6, 2: 0, 3: 5, 4: 3, 5: 2, 6: 1, 7: 4},\n",
       " {0: 7, 1: 6, 2: 0, 3: 5, 4: 3, 5: 2, 6: 4, 7: 1},\n",
       " {0: 7, 1: 6, 2: 0, 3: 5, 4: 2, 5: 3, 6: 1, 7: 4},\n",
       " {0: 7, 1: 6, 2: 0, 3: 5, 4: 2, 5: 3, 6: 4, 7: 1},\n",
       " {0: 7, 1: 6, 2: 0, 3: 5, 4: 2, 5: 4, 6: 3, 7: 1},\n",
       " {0: 7, 1: 6, 2: 0, 3: 5, 4: 2, 5: 4, 6: 1, 7: 3},\n",
       " {0: 7, 1: 6, 2: 0, 3: 5, 4: 2, 5: 1, 6: 4, 7: 3},\n",
       " {0: 7, 1: 6, 2: 0, 3: 5, 4: 2, 5: 1, 6: 3, 7: 4},\n",
       " {0: 7, 1: 6, 2: 0, 3: 5, 4: 1, 5: 2, 6: 4, 7: 3},\n",
       " {0: 7, 1: 6, 2: 0, 3: 5, 4: 1, 5: 2, 6: 3, 7: 4},\n",
       " {0: 7, 1: 6, 2: 0, 3: 5, 4: 1, 5: 3, 6: 2, 7: 4},\n",
       " {0: 7, 1: 6, 2: 0, 3: 5, 4: 1, 5: 3, 6: 4, 7: 2},\n",
       " {0: 7, 1: 6, 2: 0, 3: 5, 4: 1, 5: 4, 6: 3, 7: 2},\n",
       " {0: 7, 1: 6, 2: 0, 3: 5, 4: 1, 5: 4, 6: 2, 7: 3},\n",
       " {0: 7, 1: 5, 2: 6, 3: 0, 4: 4, 5: 1, 6: 3, 7: 2},\n",
       " {0: 7, 1: 5, 2: 6, 3: 0, 4: 4, 5: 1, 6: 2, 7: 3},\n",
       " {0: 7, 1: 5, 2: 6, 3: 0, 4: 4, 5: 2, 6: 1, 7: 3},\n",
       " {0: 7, 1: 5, 2: 6, 3: 0, 4: 4, 5: 2, 6: 3, 7: 1},\n",
       " {0: 7, 1: 5, 2: 6, 3: 0, 4: 4, 5: 3, 6: 2, 7: 1},\n",
       " {0: 7, 1: 5, 2: 6, 3: 0, 4: 4, 5: 3, 6: 1, 7: 2},\n",
       " {0: 7, 1: 5, 2: 6, 3: 0, 4: 3, 5: 4, 6: 2, 7: 1},\n",
       " {0: 7, 1: 5, 2: 6, 3: 0, 4: 3, 5: 4, 6: 1, 7: 2},\n",
       " {0: 7, 1: 5, 2: 6, 3: 0, 4: 3, 5: 1, 6: 4, 7: 2},\n",
       " {0: 7, 1: 5, 2: 6, 3: 0, 4: 3, 5: 1, 6: 2, 7: 4},\n",
       " {0: 7, 1: 5, 2: 6, 3: 0, 4: 3, 5: 2, 6: 1, 7: 4},\n",
       " {0: 7, 1: 5, 2: 6, 3: 0, 4: 3, 5: 2, 6: 4, 7: 1},\n",
       " {0: 7, 1: 5, 2: 6, 3: 0, 4: 2, 5: 3, 6: 1, 7: 4},\n",
       " {0: 7, 1: 5, 2: 6, 3: 0, 4: 2, 5: 3, 6: 4, 7: 1},\n",
       " {0: 7, 1: 5, 2: 6, 3: 0, 4: 2, 5: 4, 6: 3, 7: 1},\n",
       " {0: 7, 1: 5, 2: 6, 3: 0, 4: 2, 5: 4, 6: 1, 7: 3},\n",
       " {0: 7, 1: 5, 2: 6, 3: 0, 4: 2, 5: 1, 6: 4, 7: 3},\n",
       " {0: 7, 1: 5, 2: 6, 3: 0, 4: 2, 5: 1, 6: 3, 7: 4},\n",
       " {0: 7, 1: 5, 2: 6, 3: 0, 4: 1, 5: 2, 6: 4, 7: 3},\n",
       " {0: 7, 1: 5, 2: 6, 3: 0, 4: 1, 5: 2, 6: 3, 7: 4},\n",
       " {0: 7, 1: 5, 2: 6, 3: 0, 4: 1, 5: 3, 6: 2, 7: 4},\n",
       " {0: 7, 1: 5, 2: 6, 3: 0, 4: 1, 5: 3, 6: 4, 7: 2},\n",
       " {0: 7, 1: 5, 2: 6, 3: 0, 4: 1, 5: 4, 6: 3, 7: 2},\n",
       " {0: 7, 1: 5, 2: 6, 3: 0, 4: 1, 5: 4, 6: 2, 7: 3},\n",
       " {0: 7, 1: 5, 2: 6, 3: 1, 4: 0, 5: 2, 6: 4, 7: 3},\n",
       " {0: 7, 1: 5, 2: 6, 3: 1, 4: 0, 5: 2, 6: 3, 7: 4},\n",
       " {0: 7, 1: 5, 2: 6, 3: 1, 4: 0, 5: 3, 6: 2, 7: 4},\n",
       " {0: 7, 1: 5, 2: 6, 3: 1, 4: 0, 5: 3, 6: 4, 7: 2},\n",
       " {0: 7, 1: 5, 2: 6, 3: 1, 4: 0, 5: 4, 6: 3, 7: 2},\n",
       " {0: 7, 1: 5, 2: 6, 3: 1, 4: 0, 5: 4, 6: 2, 7: 3},\n",
       " {0: 7, 1: 5, 2: 6, 3: 1, 4: 4, 5: 0, 6: 3, 7: 2},\n",
       " {0: 7, 1: 5, 2: 6, 3: 1, 4: 4, 5: 0, 6: 2, 7: 3},\n",
       " {0: 7, 1: 5, 2: 6, 3: 1, 4: 4, 5: 2, 6: 0, 7: 3},\n",
       " {0: 7, 1: 5, 2: 6, 3: 1, 4: 4, 5: 2, 6: 3, 7: 0},\n",
       " {0: 7, 1: 5, 2: 6, 3: 1, 4: 4, 5: 3, 6: 2, 7: 0},\n",
       " {0: 7, 1: 5, 2: 6, 3: 1, 4: 4, 5: 3, 6: 0, 7: 2},\n",
       " {0: 7, 1: 5, 2: 6, 3: 1, 4: 3, 5: 4, 6: 2, 7: 0},\n",
       " {0: 7, 1: 5, 2: 6, 3: 1, 4: 3, 5: 4, 6: 0, 7: 2},\n",
       " {0: 7, 1: 5, 2: 6, 3: 1, 4: 3, 5: 0, 6: 4, 7: 2},\n",
       " {0: 7, 1: 5, 2: 6, 3: 1, 4: 3, 5: 0, 6: 2, 7: 4},\n",
       " {0: 7, 1: 5, 2: 6, 3: 1, 4: 3, 5: 2, 6: 0, 7: 4},\n",
       " {0: 7, 1: 5, 2: 6, 3: 1, 4: 3, 5: 2, 6: 4, 7: 0},\n",
       " {0: 7, 1: 5, 2: 6, 3: 1, 4: 2, 5: 3, 6: 0, 7: 4},\n",
       " {0: 7, 1: 5, 2: 6, 3: 1, 4: 2, 5: 3, 6: 4, 7: 0},\n",
       " {0: 7, 1: 5, 2: 6, 3: 1, 4: 2, 5: 4, 6: 3, 7: 0},\n",
       " {0: 7, 1: 5, 2: 6, 3: 1, 4: 2, 5: 4, 6: 0, 7: 3},\n",
       " {0: 7, 1: 5, 2: 6, 3: 1, 4: 2, 5: 0, 6: 4, 7: 3},\n",
       " {0: 7, 1: 5, 2: 6, 3: 1, 4: 2, 5: 0, 6: 3, 7: 4},\n",
       " {0: 7, 1: 5, 2: 6, 3: 2, 4: 1, 5: 3, 6: 0, 7: 4},\n",
       " {0: 7, 1: 5, 2: 6, 3: 2, 4: 1, 5: 3, 6: 4, 7: 0},\n",
       " {0: 7, 1: 5, 2: 6, 3: 2, 4: 1, 5: 4, 6: 3, 7: 0},\n",
       " {0: 7, 1: 5, 2: 6, 3: 2, 4: 1, 5: 4, 6: 0, 7: 3},\n",
       " {0: 7, 1: 5, 2: 6, 3: 2, 4: 1, 5: 0, 6: 4, 7: 3},\n",
       " {0: 7, 1: 5, 2: 6, 3: 2, 4: 1, 5: 0, 6: 3, 7: 4},\n",
       " {0: 7, 1: 5, 2: 6, 3: 2, 4: 0, 5: 1, 6: 4, 7: 3},\n",
       " {0: 7, 1: 5, 2: 6, 3: 2, 4: 0, 5: 1, 6: 3, 7: 4},\n",
       " {0: 7, 1: 5, 2: 6, 3: 2, 4: 0, 5: 3, 6: 1, 7: 4},\n",
       " {0: 7, 1: 5, 2: 6, 3: 2, 4: 0, 5: 3, 6: 4, 7: 1},\n",
       " {0: 7, 1: 5, 2: 6, 3: 2, 4: 0, 5: 4, 6: 3, 7: 1},\n",
       " {0: 7, 1: 5, 2: 6, 3: 2, 4: 0, 5: 4, 6: 1, 7: 3},\n",
       " {0: 7, 1: 5, 2: 6, 3: 2, 4: 4, 5: 0, 6: 3, 7: 1},\n",
       " {0: 7, 1: 5, 2: 6, 3: 2, 4: 4, 5: 0, 6: 1, 7: 3},\n",
       " {0: 7, 1: 5, 2: 6, 3: 2, 4: 4, 5: 1, 6: 0, 7: 3},\n",
       " {0: 7, 1: 5, 2: 6, 3: 2, 4: 4, 5: 1, 6: 3, 7: 0},\n",
       " {0: 7, 1: 5, 2: 6, 3: 2, 4: 4, 5: 3, 6: 1, 7: 0},\n",
       " {0: 7, 1: 5, 2: 6, 3: 2, 4: 4, 5: 3, 6: 0, 7: 1},\n",
       " {0: 7, 1: 5, 2: 6, 3: 2, 4: 3, 5: 4, 6: 1, 7: 0},\n",
       " {0: 7, 1: 5, 2: 6, 3: 2, 4: 3, 5: 4, 6: 0, 7: 1},\n",
       " {0: 7, 1: 5, 2: 6, 3: 2, 4: 3, 5: 0, 6: 4, 7: 1},\n",
       " {0: 7, 1: 5, 2: 6, 3: 2, 4: 3, 5: 0, 6: 1, 7: 4},\n",
       " {0: 7, 1: 5, 2: 6, 3: 2, 4: 3, 5: 1, 6: 0, 7: 4},\n",
       " {0: 7, 1: 5, 2: 6, 3: 2, 4: 3, 5: 1, 6: 4, 7: 0},\n",
       " {0: 7, 1: 5, 2: 6, 3: 3, 4: 2, 5: 4, 6: 1, 7: 0},\n",
       " {0: 7, 1: 5, 2: 6, 3: 3, 4: 2, 5: 4, 6: 0, 7: 1},\n",
       " {0: 7, 1: 5, 2: 6, 3: 3, 4: 2, 5: 0, 6: 4, 7: 1},\n",
       " {0: 7, 1: 5, 2: 6, 3: 3, 4: 2, 5: 0, 6: 1, 7: 4},\n",
       " {0: 7, 1: 5, 2: 6, 3: 3, 4: 2, 5: 1, 6: 0, 7: 4},\n",
       " {0: 7, 1: 5, 2: 6, 3: 3, 4: 2, 5: 1, 6: 4, 7: 0},\n",
       " {0: 7, 1: 5, 2: 6, 3: 3, 4: 1, 5: 2, 6: 0, 7: 4},\n",
       " {0: 7, 1: 5, 2: 6, 3: 3, 4: 1, 5: 2, 6: 4, 7: 0},\n",
       " {0: 7, 1: 5, 2: 6, 3: 3, 4: 1, 5: 4, 6: 2, 7: 0},\n",
       " {0: 7, 1: 5, 2: 6, 3: 3, 4: 1, 5: 4, 6: 0, 7: 2},\n",
       " {0: 7, 1: 5, 2: 6, 3: 3, 4: 1, 5: 0, 6: 4, 7: 2},\n",
       " {0: 7, 1: 5, 2: 6, 3: 3, 4: 1, 5: 0, 6: 2, 7: 4},\n",
       " {0: 7, 1: 5, 2: 6, 3: 3, 4: 0, 5: 1, 6: 4, 7: 2},\n",
       " {0: 7, 1: 5, 2: 6, 3: 3, 4: 0, 5: 1, 6: 2, 7: 4},\n",
       " {0: 7, 1: 5, 2: 6, 3: 3, 4: 0, 5: 2, 6: 1, 7: 4},\n",
       " {0: 7, 1: 5, 2: 6, 3: 3, 4: 0, 5: 2, 6: 4, 7: 1},\n",
       " {0: 7, 1: 5, 2: 6, 3: 3, 4: 0, 5: 4, 6: 2, 7: 1},\n",
       " {0: 7, 1: 5, 2: 6, 3: 3, 4: 0, 5: 4, 6: 1, 7: 2},\n",
       " {0: 7, 1: 5, 2: 6, 3: 3, 4: 4, 5: 0, 6: 2, 7: 1},\n",
       " {0: 7, 1: 5, 2: 6, 3: 3, 4: 4, 5: 0, 6: 1, 7: 2},\n",
       " {0: 7, 1: 5, 2: 6, 3: 3, 4: 4, 5: 1, 6: 0, 7: 2},\n",
       " {0: 7, 1: 5, 2: 6, 3: 3, 4: 4, 5: 1, 6: 2, 7: 0},\n",
       " {0: 7, 1: 5, 2: 6, 3: 3, 4: 4, 5: 2, 6: 1, 7: 0},\n",
       " {0: 7, 1: 5, 2: 6, 3: 3, 4: 4, 5: 2, 6: 0, 7: 1},\n",
       " {0: 7, 1: 5, 2: 6, 3: 4, 4: 3, 5: 0, 6: 2, 7: 1},\n",
       " {0: 7, 1: 5, 2: 6, 3: 4, 4: 3, 5: 0, 6: 1, 7: 2},\n",
       " {0: 7, 1: 5, 2: 6, 3: 4, 4: 3, 5: 1, 6: 0, 7: 2},\n",
       " {0: 7, 1: 5, 2: 6, 3: 4, 4: 3, 5: 1, 6: 2, 7: 0},\n",
       " {0: 7, 1: 5, 2: 6, 3: 4, 4: 3, 5: 2, 6: 1, 7: 0},\n",
       " {0: 7, 1: 5, 2: 6, 3: 4, 4: 3, 5: 2, 6: 0, 7: 1},\n",
       " {0: 7, 1: 5, 2: 6, 3: 4, 4: 2, 5: 3, 6: 1, 7: 0},\n",
       " {0: 7, 1: 5, 2: 6, 3: 4, 4: 2, 5: 3, 6: 0, 7: 1},\n",
       " {0: 7, 1: 5, 2: 6, 3: 4, 4: 2, 5: 0, 6: 3, 7: 1},\n",
       " {0: 7, 1: 5, 2: 6, 3: 4, 4: 2, 5: 0, 6: 1, 7: 3},\n",
       " {0: 7, 1: 5, 2: 6, 3: 4, 4: 2, 5: 1, 6: 0, 7: 3},\n",
       " {0: 7, 1: 5, 2: 6, 3: 4, 4: 2, 5: 1, 6: 3, 7: 0},\n",
       " {0: 7, 1: 5, 2: 6, 3: 4, 4: 1, 5: 2, 6: 0, 7: 3},\n",
       " {0: 7, 1: 5, 2: 6, 3: 4, 4: 1, 5: 2, 6: 3, 7: 0},\n",
       " {0: 7, 1: 5, 2: 6, 3: 4, 4: 1, 5: 3, 6: 2, 7: 0},\n",
       " {0: 7, 1: 5, 2: 6, 3: 4, 4: 1, 5: 3, 6: 0, 7: 2},\n",
       " {0: 7, 1: 5, 2: 6, 3: 4, 4: 1, 5: 0, 6: 3, 7: 2},\n",
       " {0: 7, 1: 5, 2: 6, 3: 4, 4: 1, 5: 0, 6: 2, 7: 3},\n",
       " {0: 7, 1: 5, 2: 6, 3: 4, 4: 0, 5: 1, 6: 3, 7: 2},\n",
       " {0: 7, 1: 5, 2: 6, 3: 4, 4: 0, 5: 1, 6: 2, 7: 3},\n",
       " {0: 7, 1: 5, 2: 6, 3: 4, 4: 0, 5: 2, 6: 1, 7: 3},\n",
       " {0: 7, 1: 5, 2: 6, 3: 4, 4: 0, 5: 2, 6: 3, 7: 1},\n",
       " {0: 7, 1: 5, 2: 6, 3: 4, 4: 0, 5: 3, 6: 2, 7: 1},\n",
       " {0: 7, 1: 5, 2: 6, 3: 4, 4: 0, 5: 3, 6: 1, 7: 2},\n",
       " {0: 7, 1: 5, 2: 4, 3: 6, 4: 3, 5: 0, 6: 2, 7: 1},\n",
       " {0: 7, 1: 5, 2: 4, 3: 6, 4: 3, 5: 0, 6: 1, 7: 2},\n",
       " {0: 7, 1: 5, 2: 4, 3: 6, 4: 3, 5: 1, 6: 0, 7: 2},\n",
       " {0: 7, 1: 5, 2: 4, 3: 6, 4: 3, 5: 1, 6: 2, 7: 0},\n",
       " {0: 7, 1: 5, 2: 4, 3: 6, 4: 3, 5: 2, 6: 1, 7: 0},\n",
       " {0: 7, 1: 5, 2: 4, 3: 6, 4: 3, 5: 2, 6: 0, 7: 1},\n",
       " {0: 7, 1: 5, 2: 4, 3: 6, 4: 2, 5: 3, 6: 1, 7: 0},\n",
       " {0: 7, 1: 5, 2: 4, 3: 6, 4: 2, 5: 3, 6: 0, 7: 1},\n",
       " {0: 7, 1: 5, 2: 4, 3: 6, 4: 2, 5: 0, 6: 3, 7: 1},\n",
       " {0: 7, 1: 5, 2: 4, 3: 6, 4: 2, 5: 0, 6: 1, 7: 3},\n",
       " {0: 7, 1: 5, 2: 4, 3: 6, 4: 2, 5: 1, 6: 0, 7: 3},\n",
       " {0: 7, 1: 5, 2: 4, 3: 6, 4: 2, 5: 1, 6: 3, 7: 0},\n",
       " {0: 7, 1: 5, 2: 4, 3: 6, 4: 1, 5: 2, 6: 0, 7: 3},\n",
       " {0: 7, 1: 5, 2: 4, 3: 6, 4: 1, 5: 2, 6: 3, 7: 0},\n",
       " {0: 7, 1: 5, 2: 4, 3: 6, 4: 1, 5: 3, 6: 2, 7: 0},\n",
       " {0: 7, 1: 5, 2: 4, 3: 6, 4: 1, 5: 3, 6: 0, 7: 2},\n",
       " {0: 7, 1: 5, 2: 4, 3: 6, 4: 1, 5: 0, 6: 3, 7: 2},\n",
       " {0: 7, 1: 5, 2: 4, 3: 6, 4: 1, 5: 0, 6: 2, 7: 3},\n",
       " {0: 7, 1: 5, 2: 4, 3: 6, 4: 0, 5: 1, 6: 3, 7: 2},\n",
       " {0: 7, 1: 5, 2: 4, 3: 6, 4: 0, 5: 1, 6: 2, 7: 3},\n",
       " {0: 7, 1: 5, 2: 4, 3: 6, 4: 0, 5: 2, 6: 1, 7: 3},\n",
       " {0: 7, 1: 5, 2: 4, 3: 6, 4: 0, 5: 2, 6: 3, 7: 1},\n",
       " {0: 7, 1: 5, 2: 4, 3: 6, 4: 0, 5: 3, 6: 2, 7: 1},\n",
       " {0: 7, 1: 5, 2: 4, 3: 6, 4: 0, 5: 3, 6: 1, 7: 2},\n",
       " {0: 7, 1: 5, 2: 4, 3: 0, 4: 6, 5: 1, 6: 3, 7: 2},\n",
       " {0: 7, 1: 5, 2: 4, 3: 0, 4: 6, 5: 1, 6: 2, 7: 3},\n",
       " {0: 7, 1: 5, 2: 4, 3: 0, 4: 6, 5: 2, 6: 1, 7: 3},\n",
       " {0: 7, 1: 5, 2: 4, 3: 0, 4: 6, 5: 2, 6: 3, 7: 1},\n",
       " {0: 7, 1: 5, 2: 4, 3: 0, 4: 6, 5: 3, 6: 2, 7: 1},\n",
       " {0: 7, 1: 5, 2: 4, 3: 0, 4: 6, 5: 3, 6: 1, 7: 2},\n",
       " {0: 7, 1: 5, 2: 4, 3: 0, 4: 3, 5: 6, 6: 2, 7: 1},\n",
       " {0: 7, 1: 5, 2: 4, 3: 0, 4: 3, 5: 6, 6: 1, 7: 2},\n",
       " {0: 7, 1: 5, 2: 4, 3: 0, 4: 3, 5: 1, 6: 6, 7: 2},\n",
       " {0: 7, 1: 5, 2: 4, 3: 0, 4: 3, 5: 1, 6: 2, 7: 6},\n",
       " {0: 7, 1: 5, 2: 4, 3: 0, 4: 3, 5: 2, 6: 1, 7: 6},\n",
       " {0: 7, 1: 5, 2: 4, 3: 0, 4: 3, 5: 2, 6: 6, 7: 1},\n",
       " {0: 7, 1: 5, 2: 4, 3: 0, 4: 2, 5: 3, 6: 1, 7: 6},\n",
       " {0: 7, 1: 5, 2: 4, 3: 0, 4: 2, 5: 3, 6: 6, 7: 1},\n",
       " {0: 7, 1: 5, 2: 4, 3: 0, 4: 2, 5: 6, 6: 3, 7: 1},\n",
       " {0: 7, 1: 5, 2: 4, 3: 0, 4: 2, 5: 6, 6: 1, 7: 3},\n",
       " {0: 7, 1: 5, 2: 4, 3: 0, 4: 2, 5: 1, 6: 6, 7: 3},\n",
       " {0: 7, 1: 5, 2: 4, 3: 0, 4: 2, 5: 1, 6: 3, 7: 6},\n",
       " {0: 7, 1: 5, 2: 4, 3: 0, 4: 1, 5: 2, 6: 6, 7: 3},\n",
       " {0: 7, 1: 5, 2: 4, 3: 0, 4: 1, 5: 2, 6: 3, 7: 6},\n",
       " {0: 7, 1: 5, 2: 4, 3: 0, 4: 1, 5: 3, 6: 2, 7: 6},\n",
       " {0: 7, 1: 5, 2: 4, 3: 0, 4: 1, 5: 3, 6: 6, 7: 2},\n",
       " {0: 7, 1: 5, 2: 4, 3: 0, 4: 1, 5: 6, 6: 3, 7: 2},\n",
       " {0: 7, 1: 5, 2: 4, 3: 0, 4: 1, 5: 6, 6: 2, 7: 3},\n",
       " {0: 7, 1: 5, 2: 4, 3: 1, 4: 0, 5: 2, 6: 6, 7: 3},\n",
       " {0: 7, 1: 5, 2: 4, 3: 1, 4: 0, 5: 2, 6: 3, 7: 6},\n",
       " {0: 7, 1: 5, 2: 4, 3: 1, 4: 0, 5: 3, 6: 2, 7: 6},\n",
       " {0: 7, 1: 5, 2: 4, 3: 1, 4: 0, 5: 3, 6: 6, 7: 2},\n",
       " {0: 7, 1: 5, 2: 4, 3: 1, 4: 0, 5: 6, 6: 3, 7: 2},\n",
       " {0: 7, 1: 5, 2: 4, 3: 1, 4: 0, 5: 6, 6: 2, 7: 3},\n",
       " {0: 7, 1: 5, 2: 4, 3: 1, 4: 6, 5: 0, 6: 3, 7: 2},\n",
       " {0: 7, 1: 5, 2: 4, 3: 1, 4: 6, 5: 0, 6: 2, 7: 3},\n",
       " {0: 7, 1: 5, 2: 4, 3: 1, 4: 6, 5: 2, 6: 0, 7: 3},\n",
       " {0: 7, 1: 5, 2: 4, 3: 1, 4: 6, 5: 2, 6: 3, 7: 0},\n",
       " {0: 7, 1: 5, 2: 4, 3: 1, 4: 6, 5: 3, 6: 2, 7: 0},\n",
       " {0: 7, 1: 5, 2: 4, 3: 1, 4: 6, 5: 3, 6: 0, 7: 2},\n",
       " {0: 7, 1: 5, 2: 4, 3: 1, 4: 3, 5: 6, 6: 2, 7: 0},\n",
       " {0: 7, 1: 5, 2: 4, 3: 1, 4: 3, 5: 6, 6: 0, 7: 2},\n",
       " {0: 7, 1: 5, 2: 4, 3: 1, 4: 3, 5: 0, 6: 6, 7: 2},\n",
       " {0: 7, 1: 5, 2: 4, 3: 1, 4: 3, 5: 0, 6: 2, 7: 6},\n",
       " {0: 7, 1: 5, 2: 4, 3: 1, 4: 3, 5: 2, 6: 0, 7: 6},\n",
       " {0: 7, 1: 5, 2: 4, 3: 1, 4: 3, 5: 2, 6: 6, 7: 0},\n",
       " {0: 7, 1: 5, 2: 4, 3: 1, 4: 2, 5: 3, 6: 0, 7: 6},\n",
       " {0: 7, 1: 5, 2: 4, 3: 1, 4: 2, 5: 3, 6: 6, 7: 0},\n",
       " {0: 7, 1: 5, 2: 4, 3: 1, 4: 2, 5: 6, 6: 3, 7: 0},\n",
       " {0: 7, 1: 5, 2: 4, 3: 1, 4: 2, 5: 6, 6: 0, 7: 3},\n",
       " {0: 7, 1: 5, 2: 4, 3: 1, 4: 2, 5: 0, 6: 6, 7: 3},\n",
       " {0: 7, 1: 5, 2: 4, 3: 1, 4: 2, 5: 0, 6: 3, 7: 6},\n",
       " {0: 7, 1: 5, 2: 4, 3: 2, 4: 1, 5: 3, 6: 0, 7: 6},\n",
       " {0: 7, 1: 5, 2: 4, 3: 2, 4: 1, 5: 3, 6: 6, 7: 0},\n",
       " {0: 7, 1: 5, 2: 4, 3: 2, 4: 1, 5: 6, 6: 3, 7: 0},\n",
       " {0: 7, 1: 5, 2: 4, 3: 2, 4: 1, 5: 6, 6: 0, 7: 3},\n",
       " {0: 7, 1: 5, 2: 4, 3: 2, 4: 1, 5: 0, 6: 6, 7: 3},\n",
       " {0: 7, 1: 5, 2: 4, 3: 2, 4: 1, 5: 0, 6: 3, 7: 6},\n",
       " {0: 7, 1: 5, 2: 4, 3: 2, 4: 0, 5: 1, 6: 6, 7: 3},\n",
       " {0: 7, 1: 5, 2: 4, 3: 2, 4: 0, 5: 1, 6: 3, 7: 6},\n",
       " {0: 7, 1: 5, 2: 4, 3: 2, 4: 0, 5: 3, 6: 1, 7: 6},\n",
       " {0: 7, 1: 5, 2: 4, 3: 2, 4: 0, 5: 3, 6: 6, 7: 1},\n",
       " {0: 7, 1: 5, 2: 4, 3: 2, 4: 0, 5: 6, 6: 3, 7: 1},\n",
       " {0: 7, 1: 5, 2: 4, 3: 2, 4: 0, 5: 6, 6: 1, 7: 3},\n",
       " {0: 7, 1: 5, 2: 4, 3: 2, 4: 6, 5: 0, 6: 3, 7: 1},\n",
       " {0: 7, 1: 5, 2: 4, 3: 2, 4: 6, 5: 0, 6: 1, 7: 3},\n",
       " {0: 7, 1: 5, 2: 4, 3: 2, 4: 6, 5: 1, 6: 0, 7: 3},\n",
       " {0: 7, 1: 5, 2: 4, 3: 2, 4: 6, 5: 1, 6: 3, 7: 0},\n",
       " {0: 7, 1: 5, 2: 4, 3: 2, 4: 6, 5: 3, 6: 1, 7: 0},\n",
       " {0: 7, 1: 5, 2: 4, 3: 2, 4: 6, 5: 3, 6: 0, 7: 1},\n",
       " {0: 7, 1: 5, 2: 4, 3: 2, 4: 3, 5: 6, 6: 1, 7: 0},\n",
       " {0: 7, 1: 5, 2: 4, 3: 2, 4: 3, 5: 6, 6: 0, 7: 1},\n",
       " {0: 7, 1: 5, 2: 4, 3: 2, 4: 3, 5: 0, 6: 6, 7: 1},\n",
       " {0: 7, 1: 5, 2: 4, 3: 2, 4: 3, 5: 0, 6: 1, 7: 6},\n",
       " {0: 7, 1: 5, 2: 4, 3: 2, 4: 3, 5: 1, 6: 0, 7: 6},\n",
       " {0: 7, 1: 5, 2: 4, 3: 2, 4: 3, 5: 1, 6: 6, 7: 0},\n",
       " {0: 7, 1: 5, 2: 4, 3: 3, 4: 2, 5: 6, 6: 1, 7: 0},\n",
       " {0: 7, 1: 5, 2: 4, 3: 3, 4: 2, 5: 6, 6: 0, 7: 1},\n",
       " {0: 7, 1: 5, 2: 4, 3: 3, 4: 2, 5: 0, 6: 6, 7: 1},\n",
       " {0: 7, 1: 5, 2: 4, 3: 3, 4: 2, 5: 0, 6: 1, 7: 6},\n",
       " {0: 7, 1: 5, 2: 4, 3: 3, 4: 2, 5: 1, 6: 0, 7: 6},\n",
       " {0: 7, 1: 5, 2: 4, 3: 3, 4: 2, 5: 1, 6: 6, 7: 0},\n",
       " {0: 7, 1: 5, 2: 4, 3: 3, 4: 1, 5: 2, 6: 0, 7: 6},\n",
       " {0: 7, 1: 5, 2: 4, 3: 3, 4: 1, 5: 2, 6: 6, 7: 0},\n",
       " {0: 7, 1: 5, 2: 4, 3: 3, 4: 1, 5: 6, 6: 2, 7: 0},\n",
       " {0: 7, 1: 5, 2: 4, 3: 3, 4: 1, 5: 6, 6: 0, 7: 2},\n",
       " {0: 7, 1: 5, 2: 4, 3: 3, 4: 1, 5: 0, 6: 6, 7: 2},\n",
       " {0: 7, 1: 5, 2: 4, 3: 3, 4: 1, 5: 0, 6: 2, 7: 6},\n",
       " {0: 7, 1: 5, 2: 4, 3: 3, 4: 0, 5: 1, 6: 6, 7: 2},\n",
       " {0: 7, 1: 5, 2: 4, 3: 3, 4: 0, 5: 1, 6: 2, 7: 6},\n",
       " {0: 7, 1: 5, 2: 4, 3: 3, 4: 0, 5: 2, 6: 1, 7: 6},\n",
       " {0: 7, 1: 5, 2: 4, 3: 3, 4: 0, 5: 2, 6: 6, 7: 1},\n",
       " {0: 7, 1: 5, 2: 4, 3: 3, 4: 0, 5: 6, 6: 2, 7: 1},\n",
       " {0: 7, 1: 5, 2: 4, 3: 3, 4: 0, 5: 6, 6: 1, 7: 2},\n",
       " {0: 7, 1: 5, 2: 4, 3: 3, 4: 6, 5: 0, 6: 2, 7: 1},\n",
       " {0: 7, 1: 5, 2: 4, 3: 3, 4: 6, 5: 0, 6: 1, 7: 2},\n",
       " {0: 7, 1: 5, 2: 4, 3: 3, 4: 6, 5: 1, 6: 0, 7: 2},\n",
       " {0: 7, 1: 5, 2: 4, 3: 3, 4: 6, 5: 1, 6: 2, 7: 0},\n",
       " {0: 7, 1: 5, 2: 4, 3: 3, 4: 6, 5: 2, 6: 1, 7: 0},\n",
       " {0: 7, 1: 5, 2: 4, 3: 3, 4: 6, 5: 2, 6: 0, 7: 1},\n",
       " {0: 7, 1: 5, 2: 3, 3: 4, 4: 2, 5: 6, 6: 1, 7: 0},\n",
       " {0: 7, 1: 5, 2: 3, 3: 4, 4: 2, 5: 6, 6: 0, 7: 1},\n",
       " {0: 7, 1: 5, 2: 3, 3: 4, 4: 2, 5: 0, 6: 6, 7: 1},\n",
       " {0: 7, 1: 5, 2: 3, 3: 4, 4: 2, 5: 0, 6: 1, 7: 6},\n",
       " {0: 7, 1: 5, 2: 3, 3: 4, 4: 2, 5: 1, 6: 0, 7: 6},\n",
       " {0: 7, 1: 5, 2: 3, 3: 4, 4: 2, 5: 1, 6: 6, 7: 0},\n",
       " {0: 7, 1: 5, 2: 3, 3: 4, 4: 1, 5: 2, 6: 0, 7: 6},\n",
       " {0: 7, 1: 5, 2: 3, 3: 4, 4: 1, 5: 2, 6: 6, 7: 0},\n",
       " {0: 7, 1: 5, 2: 3, 3: 4, 4: 1, 5: 6, 6: 2, 7: 0},\n",
       " {0: 7, 1: 5, 2: 3, 3: 4, 4: 1, 5: 6, 6: 0, 7: 2},\n",
       " {0: 7, 1: 5, 2: 3, 3: 4, 4: 1, 5: 0, 6: 6, 7: 2},\n",
       " {0: 7, 1: 5, 2: 3, 3: 4, 4: 1, 5: 0, 6: 2, 7: 6},\n",
       " {0: 7, 1: 5, 2: 3, 3: 4, 4: 0, 5: 1, 6: 6, 7: 2},\n",
       " {0: 7, 1: 5, 2: 3, 3: 4, 4: 0, 5: 1, 6: 2, 7: 6},\n",
       " {0: 7, 1: 5, 2: 3, 3: 4, 4: 0, 5: 2, 6: 1, 7: 6},\n",
       " {0: 7, 1: 5, 2: 3, 3: 4, 4: 0, 5: 2, 6: 6, 7: 1},\n",
       " {0: 7, 1: 5, 2: 3, 3: 4, 4: 0, 5: 6, 6: 2, 7: 1},\n",
       " {0: 7, 1: 5, 2: 3, 3: 4, 4: 0, 5: 6, 6: 1, 7: 2},\n",
       " {0: 7, 1: 5, 2: 3, 3: 4, 4: 6, 5: 0, 6: 2, 7: 1},\n",
       " {0: 7, 1: 5, 2: 3, 3: 4, 4: 6, 5: 0, 6: 1, 7: 2},\n",
       " {0: 7, 1: 5, 2: 3, 3: 4, 4: 6, 5: 1, 6: 0, 7: 2},\n",
       " {0: 7, 1: 5, 2: 3, 3: 4, 4: 6, 5: 1, 6: 2, 7: 0},\n",
       " {0: 7, 1: 5, 2: 3, 3: 4, 4: 6, 5: 2, 6: 1, 7: 0},\n",
       " {0: 7, 1: 5, 2: 3, 3: 4, 4: 6, 5: 2, 6: 0, 7: 1},\n",
       " {0: 7, 1: 5, 2: 3, 3: 6, 4: 4, 5: 0, 6: 2, 7: 1},\n",
       " {0: 7, 1: 5, 2: 3, 3: 6, 4: 4, 5: 0, 6: 1, 7: 2},\n",
       " {0: 7, 1: 5, 2: 3, 3: 6, 4: 4, 5: 1, 6: 0, 7: 2},\n",
       " {0: 7, 1: 5, 2: 3, 3: 6, 4: 4, 5: 1, 6: 2, 7: 0},\n",
       " {0: 7, 1: 5, 2: 3, 3: 6, 4: 4, 5: 2, 6: 1, 7: 0},\n",
       " {0: 7, 1: 5, 2: 3, 3: 6, 4: 4, 5: 2, 6: 0, 7: 1},\n",
       " {0: 7, 1: 5, 2: 3, 3: 6, 4: 2, 5: 4, 6: 1, 7: 0},\n",
       " {0: 7, 1: 5, 2: 3, 3: 6, 4: 2, 5: 4, 6: 0, 7: 1},\n",
       " {0: 7, 1: 5, 2: 3, 3: 6, 4: 2, 5: 0, 6: 4, 7: 1},\n",
       " {0: 7, 1: 5, 2: 3, 3: 6, 4: 2, 5: 0, 6: 1, 7: 4},\n",
       " {0: 7, 1: 5, 2: 3, 3: 6, 4: 2, 5: 1, 6: 0, 7: 4},\n",
       " {0: 7, 1: 5, 2: 3, 3: 6, 4: 2, 5: 1, 6: 4, 7: 0},\n",
       " {0: 7, 1: 5, 2: 3, 3: 6, 4: 1, 5: 2, 6: 0, 7: 4},\n",
       " {0: 7, 1: 5, 2: 3, 3: 6, 4: 1, 5: 2, 6: 4, 7: 0},\n",
       " {0: 7, 1: 5, 2: 3, 3: 6, 4: 1, 5: 4, 6: 2, 7: 0},\n",
       " {0: 7, 1: 5, 2: 3, 3: 6, 4: 1, 5: 4, 6: 0, 7: 2},\n",
       " ...]"
      ]
     },
     "execution_count": 23,
     "metadata": {},
     "output_type": "execute_result"
    }
   ],
   "source": [
    "problem = Problem()\n",
    "numpieces = 8\n",
    "cols = range(numpieces)\n",
    "rows = range(numpieces)\n",
    "problem.addVariables(cols, rows)\n",
    "for col1 in cols:\n",
    "     for col2 in cols:\n",
    "        if col1 < col2:\n",
    "            problem.addConstraint(lambda row1, row2: row1 != row2,\n",
    "                                   (col1, col2))\n",
    "problem.getSolutions()"
   ]
  },
  {
   "cell_type": "markdown",
   "metadata": {
    "slideshow": {
     "slide_type": "subslide"
    }
   },
   "source": [
    "<h1>Cuadrados mágicos</h1>\n",
    "\n",
    "Este ejemplo resuelve un cuadrado mágico 4x4:"
   ]
  },
  {
   "cell_type": "code",
   "execution_count": 24,
   "metadata": {
    "slideshow": {
     "slide_type": "fragment"
    }
   },
   "outputs": [
    {
     "data": {
      "text/plain": [
       "{0: 16,\n",
       " 3: 13,\n",
       " 5: 11,\n",
       " 10: 5,\n",
       " 15: 2,\n",
       " 6: 10,\n",
       " 9: 8,\n",
       " 12: 3,\n",
       " 1: 1,\n",
       " 2: 4,\n",
       " 4: 6,\n",
       " 7: 7,\n",
       " 8: 9,\n",
       " 11: 12,\n",
       " 13: 14,\n",
       " 14: 15}"
      ]
     },
     "execution_count": 24,
     "metadata": {},
     "output_type": "execute_result"
    }
   ],
   "source": [
    "problem = Problem()\n",
    "problem.addVariables(range(0, 16), range(1, 16 + 1))\n",
    "problem.addConstraint(AllDifferentConstraint(), range(0, 16))\n",
    "problem.addConstraint(ExactSumConstraint(34), [0, 5, 10, 15])\n",
    "problem.addConstraint(ExactSumConstraint(34), [3, 6, 9, 12])\n",
    "for row in range(4):\n",
    "     problem.addConstraint(ExactSumConstraint(34),\n",
    "                              [row * 4 + i for i in range(4)])\n",
    "for col in range(4):\n",
    "     problem.addConstraint(ExactSumConstraint(34),\n",
    "                              [col + 4 * i for i in range(4)])\n",
    "problem.getSolution()"
   ]
  },
  {
   "cell_type": "markdown",
   "metadata": {
    "slideshow": {
     "slide_type": "slide"
    }
   },
   "source": [
    "##### Bibliografía: *https://labix.org/python-constraint*\n",
    "        \n",
    "##### GitHub: *https://github.com/DanielCalle/python-constraints*\n",
    "        \n",
    "##### Transparencias: *https://danielcalle.github.io/python-constraints/*"
   ]
  }
 ],
 "metadata": {
  "celltoolbar": "幻灯片",
  "kernelspec": {
   "display_name": "Python 3",
   "language": "python",
   "name": "python3"
  },
  "language_info": {
   "codemirror_mode": {
    "name": "ipython",
    "version": 3
   },
   "file_extension": ".py",
   "mimetype": "text/x-python",
   "name": "python",
   "nbconvert_exporter": "python",
   "pygments_lexer": "ipython3",
   "version": "3.6.7"
  }
 },
 "nbformat": 4,
 "nbformat_minor": 2
}
